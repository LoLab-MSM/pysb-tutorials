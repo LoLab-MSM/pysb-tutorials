{
 "cells": [
  {
   "cell_type": "markdown",
   "metadata": {},
   "source": [
    "# Figures from the PySB publication"
   ]
  },
  {
   "cell_type": "markdown",
   "metadata": {},
   "source": [
    "## Figure 2A"
   ]
  },
  {
   "cell_type": "code",
   "execution_count": 1,
   "metadata": {
    "collapsed": false
   },
   "outputs": [
    {
     "name": "stdout",
     "output_type": "stream",
     "text": [
      "BNGL Rules\n",
      "==========\n",
      "\n",
      "ODEs\n",
      "====\n",
      "C8(bf=None): kc*s2 - kf*s0*s1 + kr*s2\n",
      "Bid(bf=None, state='U'): -kf*s0*s1 + kr*s2\n",
      "Bid(bf=1, state='U') % C8(bf=1): -kc*s2 + kf*s0*s1 - kr*s2\n",
      "Bid(bf=None, state='T'): kc*s2\n"
     ]
    }
   ],
   "source": [
    "from pysb import *\n",
    "from pysb.bng import generate_network, generate_equations\n",
    "import re\n",
    "\n",
    "\n",
    "# This code (pygmentized) is shown in figure S1A as \"Basic Implementation\"\n",
    "def catalyze(enz, e_site, sub, s_site, prod, klist):\n",
    "    kf, kr, kc = klist   # Get the parameters from the list\n",
    "\n",
    "    # Create the rules\n",
    "    rb = Rule('bind_%s_%s' % (enz().monomer.name, sub().monomer.name),\n",
    "           enz({e_site:None}) + sub({s_site:None}) <>\n",
    "           enz({e_site:1}) % sub({s_site:1}),\n",
    "           kf, kr)\n",
    "    rc = Rule('catalyze_%s%s_to_%s' %\n",
    "           (enz().monomer.name, sub().monomer.name, prod().monomer.name),\n",
    "           enz({e_site:1}) % sub({s_site:1}) >>\n",
    "           enz({e_site:None}) + prod({s_site:None}),\n",
    "           kc)\n",
    "    return [rb, rc]\n",
    "\n",
    "Model()\n",
    "\n",
    "Monomer('C8', ['bf'])\n",
    "Monomer('Bid', ['bf', 'state'], {'state': ['U', 'T']})\n",
    "\n",
    "klist = [Parameter('kf', 1), Parameter('kr', 1), Parameter('kc', 1)]\n",
    "\n",
    "Initial(C8(bf=None), Parameter('C8_0', 100))\n",
    "Initial(Bid(bf=None, state='U'), Parameter('Bid_0', 100))\n",
    "\n",
    "# This is the code shown for \"Example Macro Call\" (not printed here)\n",
    "catalyze(C8, 'bf', Bid(state='U'), 'bf', Bid(state='T'), klist)\n",
    "\n",
    "bng_code = generate_network(model)\n",
    "# Merge continued lines\n",
    "bng_code = bng_code.replace('\\\\\\n', '')\n",
    "generate_equations(model)\n",
    "\n",
    "num_rules = len(model.rules)\n",
    "num_odes = len(model.odes)\n",
    "\n",
    "print \"BNGL Rules\"\n",
    "print \"==========\"\n",
    "for line in bng_code.split(\"\\n\"):\n",
    "    for rule in model.rules:\n",
    "        match = re.match(r'^\\s*%s:\\s*(.*)' % rule.name, line)\n",
    "        if match:\n",
    "            print match.group(1)\n",
    "print\n",
    "print \"ODEs\"\n",
    "print \"====\"\n",
    "for species, ode in zip(model.species, model.odes):\n",
    "    print \"%s: %s\" % (species, ode)"
   ]
  },
  {
   "cell_type": "markdown",
   "metadata": {},
   "source": [
    "## Figure 2B"
   ]
  },
  {
   "cell_type": "code",
   "execution_count": 3,
   "metadata": {
    "collapsed": false
   },
   "outputs": [
    {
     "name": "stdout",
     "output_type": "stream",
     "text": [
      "BNGL Rules\n",
      "==========\n",
      "5 rules\n",
      "\n",
      "ODEs\n",
      "====\n",
      "6 ODEs\n"
     ]
    },
    {
     "name": "stderr",
     "output_type": "stream",
     "text": [
      "/usr/local/lib/python2.7/dist-packages/IPython/kernel/__main__.py:3: ModelExistsWarning: Redefining model! (You can probably ignore this if you are running code interactively)\n",
      "  app.launch_new_instance()\n"
     ]
    }
   ],
   "source": [
    "from pysb.macros import *\n",
    "\n",
    "Model()\n",
    "\n",
    "Monomer('Bax', ['s1', 's2'])\n",
    "Initial(Bax(s1=None, s2=None), Parameter('Bax_0', 1))\n",
    "\n",
    "ktable = [[1, 1]] * 5\n",
    "\n",
    "# This is the code shown for \"Example Macro Call\" (not printed here)\n",
    "assemble_pore_sequential(Bax, 's1', 's2', 6, ktable)\n",
    "\n",
    "generate_equations(model)\n",
    "\n",
    "num_rules = len(model.rules)\n",
    "num_odes = len(model.odes)\n",
    "\n",
    "print \"BNGL Rules\"\n",
    "print \"==========\"\n",
    "print num_rules, \"rules\"\n",
    "print\n",
    "print \"ODEs\"\n",
    "print \"====\"\n",
    "print num_odes, \"ODEs\""
   ]
  },
  {
   "cell_type": "markdown",
   "metadata": {},
   "source": [
    "## Figure 2C"
   ]
  },
  {
   "cell_type": "code",
   "execution_count": 4,
   "metadata": {
    "collapsed": false
   },
   "outputs": [
    {
     "name": "stdout",
     "output_type": "stream",
     "text": [
      "BNGL Rules\n",
      "==========\n",
      "28 rules\n",
      "\n",
      "ODEs\n",
      "====\n",
      "41 ODEs\n"
     ]
    },
    {
     "name": "stderr",
     "output_type": "stream",
     "text": [
      "/usr/local/lib/python2.7/dist-packages/IPython/kernel/__main__.py:5: ModelExistsWarning: Redefining model! (You can probably ignore this if you are running code interactively)\n"
     ]
    }
   ],
   "source": [
    "from pysb import *\n",
    "from pysb.macros import bind_table\n",
    "from pysb.bng import generate_network, generate_equations\n",
    "\n",
    "Model()\n",
    "\n",
    "Monomer('Bid', ['bf'])\n",
    "Monomer('Bim', ['bf'])\n",
    "Monomer('Bad', ['bf'])\n",
    "Monomer('Bik', ['bf'])\n",
    "Monomer('Noxa', ['bf'])\n",
    "Monomer('Hrk', ['bf'])\n",
    "Monomer('Puma', ['bf'])\n",
    "Monomer('Bmf', ['bf'])\n",
    "\n",
    "Monomer('Bcl2', ['bf'])\n",
    "Monomer('BclXL', ['bf'])\n",
    "Monomer('BclW', ['bf'])\n",
    "Monomer('Mcl1', ['bf'])\n",
    "Monomer('Bfl1', ['bf'])\n",
    "\n",
    "Initial(Bid(bf=None), Parameter('Bid_0', 1))\n",
    "Initial(Bim(bf=None), Parameter('Bim_0', 1))\n",
    "Initial(Bad(bf=None), Parameter('Bad_0', 1))\n",
    "Initial(Bik(bf=None), Parameter('Bik_0', 1))\n",
    "Initial(Noxa(bf=None), Parameter('Noxa_0', 1))\n",
    "Initial(Hrk(bf=None), Parameter('Hrk_0', 1))\n",
    "Initial(Puma(bf=None), Parameter('Puma_0', 1))\n",
    "Initial(Bmf(bf=None), Parameter('Bmf_0', 1))\n",
    "\n",
    "Initial(Bcl2(bf=None), Parameter('Bcl2_0', 1))\n",
    "Initial(BclXL(bf=None), Parameter('BclXL_0', 1))\n",
    "Initial(BclW(bf=None), Parameter('BclW_0', 1))\n",
    "Initial(Mcl1(bf=None), Parameter('Mcl1_0', 1))\n",
    "Initial(Bfl1(bf=None), Parameter('Bfl1_0', 1))\n",
    "\n",
    "# This is the code shown for \"Example Macro Call\" (not printed here)\n",
    "bind_table([[       Bcl2,  BclXL,  BclW,  Mcl1,  Bfl1],\n",
    "            [Bid,     66,     12,    10,    10,    53],\n",
    "            [Bim,     10,     10,    38,    10,    73],\n",
    "            [Bad,     11,     10,    60,  None,  None],\n",
    "            [Bik,    151,     10,    17,   109,  None],\n",
    "            [Noxa,  None,   None,  None,    19,  None],\n",
    "            [Hrk,   None,     92,  None,  None,  None],\n",
    "            [Puma,    18,     10,    25,    10,    59],\n",
    "            [Bmf,     24,     10,    11,    23,  None]],\n",
    "            'bf', 'bf', kf=1e3)\n",
    "\n",
    "generate_equations(model)\n",
    "\n",
    "num_rules = len(model.rules)\n",
    "num_odes = len(model.odes)\n",
    "\n",
    "print \"BNGL Rules\"\n",
    "print \"==========\"\n",
    "print num_rules, \"rules\"\n",
    "print\n",
    "print \"ODEs\"\n",
    "print \"====\"\n",
    "print num_odes, \"ODEs\""
   ]
  },
  {
   "cell_type": "markdown",
   "metadata": {},
   "source": [
    "## Figures 5C, 5D and 6\n",
    "Not currently working, as they require the EARM module as a dependency."
   ]
  },
  {
   "cell_type": "code",
   "execution_count": null,
   "metadata": {
    "collapsed": true
   },
   "outputs": [],
   "source": []
  }
 ],
 "metadata": {
  "kernelspec": {
   "display_name": "Python 2",
   "language": "python",
   "name": "python2"
  },
  "language_info": {
   "codemirror_mode": {
    "name": "ipython",
    "version": 2
   },
   "file_extension": ".py",
   "mimetype": "text/x-python",
   "name": "python",
   "nbconvert_exporter": "python",
   "pygments_lexer": "ipython2",
   "version": "2.7.6"
  }
 },
 "nbformat": 4,
 "nbformat_minor": 0
}
