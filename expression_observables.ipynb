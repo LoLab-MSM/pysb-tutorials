{
 "cells": [
  {
   "cell_type": "markdown",
   "metadata": {},
   "source": [
    "# Expression Observables Model\n",
    "Simple model demonstrating expressions that reference observables."
   ]
  },
  {
   "cell_type": "code",
   "execution_count": 1,
   "metadata": {
    "collapsed": false
   },
   "outputs": [
    {
     "data": {
      "text/plain": [
       "Expression('NBD_signal', Bax_c0*c0_scaling + Bax_c1*c1_scaling + Bax_c2*c2_scaling)"
      ]
     },
     "execution_count": 1,
     "metadata": {},
     "output_type": "execute_result"
    }
   ],
   "source": [
    "from pysb import *\n",
    "\n",
    "Model()\n",
    "\n",
    "Monomer('Bax', ['conf'], {'conf': ['c0', 'c1', 'c2']})\n",
    "\n",
    "Initial(Bax(conf='c0'), Parameter('Bax_0', 1))\n",
    "\n",
    "Parameter('k1', 1)\n",
    "Parameter('k2', 1)\n",
    "Parameter('c0_scaling', 0)\n",
    "Parameter('c1_scaling', 2)\n",
    "Parameter('c2_scaling', 5)\n",
    "\n",
    "Rule('c0_to_c1', Bax(conf='c0') >> Bax(conf='c1'), k1)\n",
    "Rule('c1_to_c2', Bax(conf='c1') >> Bax(conf='c2'), k2)\n",
    "\n",
    "Observable('Bax_c0', Bax(conf='c0'))\n",
    "Observable('Bax_c1', Bax(conf='c1'))\n",
    "Observable('Bax_c2', Bax(conf='c2'))\n",
    "\n",
    "Expression('NBD_signal',\n",
    "           Bax_c0 * c0_scaling + Bax_c1 * c1_scaling + Bax_c2 * c2_scaling)"
   ]
  },
  {
   "cell_type": "code",
   "execution_count": null,
   "metadata": {
    "collapsed": true
   },
   "outputs": [],
   "source": []
  }
 ],
 "metadata": {
  "kernelspec": {
   "display_name": "Python 2",
   "language": "python",
   "name": "python2"
  },
  "language_info": {
   "codemirror_mode": {
    "name": "ipython",
    "version": 2
   },
   "file_extension": ".py",
   "mimetype": "text/x-python",
   "name": "python",
   "nbconvert_exporter": "python",
   "pygments_lexer": "ipython2",
   "version": "2.7.6"
  }
 },
 "nbformat": 4,
 "nbformat_minor": 0
}
