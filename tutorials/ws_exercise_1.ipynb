{
 "cells": [
  {
   "cell_type": "raw",
   "metadata": {},
   "source": [
    "This tutorial shows you how to build a simple Michaelis-Menten two-step enzyme catalysis model in PySB. The figure below shows a conceptual overview."
   ]
  },
  {
   "cell_type": "code",
   "execution_count": null,
   "metadata": {},
   "outputs": [],
   "source": [
    "from IPython.display import Image\n",
    "Image(filename='Lock-and-key.JPG')"
   ]
  },
  {
   "cell_type": "raw",
   "metadata": {},
   "source": [
    "1) Import essential classes from PySB\n",
    "\n",
    "from pysb import*"
   ]
  },
  {
   "cell_type": "code",
   "execution_count": null,
   "metadata": {},
   "outputs": [],
   "source": [
    "from pysb import * # Model, Monomer, Parameter, Initial, Rule, Observable\n",
    "#from pysb.macros import *"
   ]
  },
  {
   "cell_type": "raw",
   "metadata": {},
   "source": [
    "2) Create an instance of the model class. This creates an empty model to be defined interactively\n",
    "\n",
    "Model()"
   ]
  },
  {
   "cell_type": "code",
   "execution_count": null,
   "metadata": {},
   "outputs": [],
   "source": [
    "Model()"
   ]
  },
  {
   "cell_type": "raw",
   "metadata": {},
   "source": [
    "3) Create a monomer named 'enzyme' that only has one binding site, called 'binding1'"
   ]
  },
  {
   "cell_type": "code",
   "execution_count": null,
   "metadata": {},
   "outputs": [],
   "source": [
    "#TODO"
   ]
  },
  {
   "cell_type": "raw",
   "metadata": {},
   "source": [
    "4) Create a monomer name 'protein' that has two sites. One site is the binding site called 'binding' (Remember: for sites that only take part in bond formation the state can be omitted), the other is the protein state site called 'state'. The protein state site can take two values: 'sub' and 'pro' (substrate and product)."
   ]
  },
  {
   "cell_type": "code",
   "execution_count": null,
   "metadata": {},
   "outputs": [],
   "source": [
    "#TODO"
   ]
  },
  {
   "cell_type": "raw",
   "metadata": {},
   "source": [
    "5) Define a forward, reverse and catalysis parameters (kf, kr, kc) with the values 0.003, 0.001 and 0.002 respectively."
   ]
  },
  {
   "cell_type": "code",
   "execution_count": null,
   "metadata": {},
   "outputs": [],
   "source": [
    "#TODO\n",
    "#TODO\n",
    "#TODO"
   ]
  },
  {
   "cell_type": "raw",
   "metadata": {},
   "source": [
    "6) Define a binding rule where the unbound enzyme binds the protein in the substrate state.\n",
    "\n",
    "E + P <=> E%P"
   ]
  },
  {
   "cell_type": "code",
   "execution_count": null,
   "metadata": {},
   "outputs": [],
   "source": [
    "#TODO"
   ]
  },
  {
   "cell_type": "raw",
   "metadata": {},
   "source": [
    "7) Create a catalysis rule where the complex dissociates and the protein change state to product (the enzyme is left unaltered).\n",
    "\n",
    "Rule('catalysis', complex >> enzyme + protein in state product, catalysis_rate)"
   ]
  },
  {
   "cell_type": "code",
   "execution_count": null,
   "metadata": {},
   "outputs": [],
   "source": [
    "#TODO"
   ]
  },
  {
   "cell_type": "raw",
   "metadata": {},
   "source": [
    "8) Define the initial conditions for the two proteins using the parameters."
   ]
  },
  {
   "cell_type": "code",
   "execution_count": null,
   "metadata": {},
   "outputs": [],
   "source": [
    "#TODO parameters\n",
    "#TODO\n",
    "#TODO initials\n",
    "#TODO"
   ]
  },
  {
   "cell_type": "raw",
   "metadata": {},
   "source": [
    "9) Define the observables: free and total enzyme, substrate, product and the complex"
   ]
  },
  {
   "cell_type": "code",
   "execution_count": null,
   "metadata": {},
   "outputs": [],
   "source": [
    "#TODO\n",
    "#TODO\n",
    "#TODO\n",
    "#TODO\n",
    "#TODO"
   ]
  },
  {
   "cell_type": "raw",
   "metadata": {},
   "source": [
    "10) Run simulation "
   ]
  },
  {
   "cell_type": "code",
   "execution_count": null,
   "metadata": {},
   "outputs": [],
   "source": [
    "from pysb.integrate import odesolve\n",
    "import matplotlib.pyplot as plt\n",
    "import numpy as np\n",
    "\n",
    "tspan = np.linspace(0, 100, 100)\n",
    "y = odesolve(model, tspan)"
   ]
  },
  {
   "cell_type": "raw",
   "metadata": {},
   "source": [
    "11) Plot simulation results"
   ]
  },
  {
   "cell_type": "code",
   "execution_count": null,
   "metadata": {},
   "outputs": [],
   "source": [
    "plt.plot(tspan, y['substrate'], label=\"substrate\")\n",
    "#TODO\n",
    "#TODO\n",
    "#TODO\n",
    "#TODO\n",
    "\n",
    "plt.xlabel('time')\n",
    "plt.ylabel('population')\n",
    "plt.ylim(0,110)\n",
    "plt.legend(loc=0)\n",
    "plt.show()"
   ]
  }
 ],
 "metadata": {
  "kernelspec": {
   "display_name": "Python 3",
   "language": "python",
   "name": "python3"
  },
  "language_info": {
   "codemirror_mode": {
    "name": "ipython",
    "version": 3
   },
   "file_extension": ".py",
   "mimetype": "text/x-python",
   "name": "python",
   "nbconvert_exporter": "python",
   "pygments_lexer": "ipython3",
   "version": "3.8.4"
  }
 },
 "nbformat": 4,
 "nbformat_minor": 4
}
