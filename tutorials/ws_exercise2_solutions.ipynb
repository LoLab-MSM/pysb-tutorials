{
 "cells": [
  {
   "cell_type": "code",
   "execution_count": 1,
   "metadata": {},
   "outputs": [],
   "source": [
    "# make sure, the numpy library only uses one thread\n",
    "import os\n",
    "os.environ[\"OMP_NUM_THREADS\"]=\"1\"\n",
    "\n",
    "# import libraries\n",
    "import matplotlib.pyplot as plt\n",
    "import numpy as np\n",
    "import pandas as pd\n",
    "import scipy.interpolate\n",
    "\n",
    "# import models\n",
    "from earm.lopez_direct import model as md\n",
    "from earm.lopez_indirect import model as mi\n",
    "from earm.lopez_embedded import model as me\n",
    "from pysb.simulator import ScipyOdeSimulator"
   ]
  },
  {
   "cell_type": "code",
   "execution_count": 2,
   "metadata": {},
   "outputs": [],
   "source": [
    "# load experimental data\n",
    "exp_data = pd.read_csv('EC-RP_IMS-RP_IC-RP_data_for_models.csv', index_col=False)\n",
    "\n",
    "# read time points from data file\n",
    "tspan = exp_data['# Time'].values.copy()\n",
    "\n",
    "# use the rate parameters that are hardcoded into the model\n",
    "param_values_i = np.array([p.value for p in mi.parameters])\n",
    "param_values_d = np.array([p.value for p in md.parameters])\n",
    "param_values_e = np.array([p.value for p in me.parameters])\n",
    "\n",
    "\n",
    "# arguments for the model simulation (solve the ODEs)\n",
    "args = {'integrator': 'lsoda', 'use_analytic_jacobian': True}\n",
    "\n",
    "# simulate the models\n",
    "solver_i = ScipyOdeSimulator(mi, tspan, **args)\n",
    "solver_d = ScipyOdeSimulator(md, tspan, **args)\n",
    "solver_e = ScipyOdeSimulator(me, tspan, **args)"
   ]
  },
  {
   "cell_type": "code",
   "execution_count": 3,
   "metadata": {},
   "outputs": [
    {
     "name": "stdout",
     "output_type": "stream",
     "text": [
      "     # Time   IC-RP  norm_IC-RP  nrm_var_IC-RP  IMS-RP  IMS-RP step  VAR  \\\n",
      "0       180  0.7063      0.0000         0.0006     0.0          0.0  1.0   \n",
      "1       360  0.7063      0.0000         0.0006     0.0          0.0  1.0   \n",
      "2       540  0.7063      0.0000         0.0006     0.0          0.0  1.0   \n",
      "3       720  0.7063      0.0000         0.0006     0.0          0.0  1.0   \n",
      "4       900  0.7063      0.0000         0.0006     0.0          0.0  1.0   \n",
      "5      1080  0.7063      0.0000         0.0006     0.0          0.0  1.0   \n",
      "6      1260  0.7063      0.0000         0.0006     0.0          0.0  1.0   \n",
      "7      1440  0.7063      0.0000         0.0006     0.0          0.0  1.0   \n",
      "8      1620  0.7063      0.0000         0.0006     0.0          0.0  1.0   \n",
      "9      1800  0.7063      0.0000         0.0006     0.0          0.0  1.0   \n",
      "10     1980  0.7063      0.0000         0.0006     0.0          0.0  1.0   \n",
      "11     2160  0.7063      0.0000         0.0006     0.0          0.0  1.0   \n",
      "12     2340  0.7063      0.0000         0.0006     0.0          0.0  1.0   \n",
      "13     2520  0.7063      0.0000         0.0006     0.0          0.0  1.0   \n",
      "14     2700  0.7063      0.0000         0.0006     0.0          0.0  1.0   \n",
      "15     2880  0.7063      0.0000         0.0006     0.0          0.0  1.0   \n",
      "16     3060  0.7063      0.0000         0.0006     0.0          0.0  1.0   \n",
      "17     3240  0.7063      0.0000         0.0006     0.0          0.0  1.0   \n",
      "18     3420  0.7063      0.0000         0.0006     0.0          0.0  1.0   \n",
      "19     3600  0.7063      0.0000         0.0006     0.0          0.0  1.0   \n",
      "20     3780  0.7063      0.0000         0.0006     0.0          0.0  1.0   \n",
      "21     3960  0.7063      0.0000         0.0006     0.0          0.0  1.0   \n",
      "22     4140  0.7063      0.0000         0.0006     0.0          0.0  1.0   \n",
      "23     4320  0.7081      0.0035         0.0042     0.0          0.0  1.0   \n",
      "24     4500  0.7151      0.0170         0.0047     0.0          0.0  1.0   \n",
      "25     4680  0.7159      0.0186         0.0046     0.0          0.0  1.0   \n",
      "26     4860  0.7170      0.0207         0.0053     0.0          0.0  1.0   \n",
      "27     5040  0.7223      0.0310         0.0051     0.0          0.0  1.0   \n",
      "28     5220  0.7245      0.0352         0.0063     0.0          0.0  1.0   \n",
      "29     5400  0.7313      0.0484         0.0078     0.0          0.0  1.0   \n",
      "..      ...     ...         ...            ...     ...          ...  ...   \n",
      "82    14940  1.2769      1.0000         0.0063     1.0          1.0  1.0   \n",
      "83    15120  1.2766      1.0000         0.0063     1.0          1.0  1.0   \n",
      "84    15300  1.2830      1.0000         0.0063     1.0          1.0  1.0   \n",
      "85    15480  1.2824      1.0000         0.0063     1.0          1.0  1.0   \n",
      "86    15660  1.2606      1.0000         0.0063     1.0          1.0  1.0   \n",
      "87    15840  1.2601      1.0000         0.0063     1.0          1.0  1.0   \n",
      "88    16020  1.2720      1.0000         0.0063     1.0          1.0  1.0   \n",
      "89    16200  1.2635      1.0000         0.0063     1.0          1.0  1.0   \n",
      "90    16380  1.2384      1.0000         0.0063     1.0          1.0  1.0   \n",
      "91    16560  1.2434      1.0000         0.0063     1.0          1.0  1.0   \n",
      "92    16740  1.2677      1.0000         0.0063     1.0          1.0  1.0   \n",
      "93    16920  1.2650      1.0000         0.0063     1.0          1.0  1.0   \n",
      "94    17100  1.2595      1.0000         0.0063     1.0          1.0  1.0   \n",
      "95    17280  1.2565      1.0000         0.0063     1.0          1.0  1.0   \n",
      "96    17460  1.2476      1.0000         0.0063     1.0          1.0  1.0   \n",
      "97    17640  1.2432      1.0000         0.0063     1.0          1.0  1.0   \n",
      "98    17820  1.2617      1.0000         0.0063     1.0          1.0  1.0   \n",
      "99    18000  1.2494      1.0000         0.0063     1.0          1.0  1.0   \n",
      "100   18180  1.2561      1.0000         0.0063     1.0          1.0  1.0   \n",
      "101   18360  1.2519      1.0000         0.0063     1.0          1.0  1.0   \n",
      "102   18540  1.2578      1.0000         0.0063     1.0          1.0  1.0   \n",
      "103   18720  1.2568      1.0000         0.0063     1.0          1.0  1.0   \n",
      "104   18900  1.2688      1.0000         0.0063     1.0          1.0  1.0   \n",
      "105   19080  1.2505      1.0000         0.0063     1.0          1.0  1.0   \n",
      "106   19260  1.2490      1.0000         0.0063     1.0          1.0  1.0   \n",
      "107   19440  1.2533      1.0000         0.0063     1.0          1.0  1.0   \n",
      "108   19620  1.2579      1.0000         0.0063     1.0          1.0  1.0   \n",
      "109   19800  1.2531      1.0000         0.0063     1.0          1.0  1.0   \n",
      "110   19980  1.2571      1.0000         0.0063     1.0          1.0  1.0   \n",
      "111   20160  1.2580      1.0000         0.0063     1.0          1.0  1.0   \n",
      "\n",
      "      EC-RP  norm_EC-RP  nrm_var_EC-RP  \n",
      "0    0.4451      0.0020         0.0003  \n",
      "1    0.4460      0.0018         0.0003  \n",
      "2    0.4459      0.0015         0.0003  \n",
      "3    0.4458      0.0051         0.0003  \n",
      "4    0.4474      0.0038         0.0002  \n",
      "5    0.4468      0.0042         0.0002  \n",
      "6    0.4470      0.0057         0.0003  \n",
      "7    0.4477      0.0022         0.0004  \n",
      "8    0.4461      0.0027         0.0004  \n",
      "9    0.4463      0.0071         0.0004  \n",
      "10   0.4483      0.0027         0.0005  \n",
      "11   0.4463      0.0060         0.0005  \n",
      "12   0.4478      0.0060         0.0005  \n",
      "13   0.4478      0.0064         0.0006  \n",
      "14   0.4480      0.0068         0.0007  \n",
      "15   0.4482      0.0046         0.0007  \n",
      "16   0.4472      0.0075         0.0008  \n",
      "17   0.4485      0.0091         0.0012  \n",
      "18   0.4492      0.0115         0.0009  \n",
      "19   0.4503      0.0144         0.0010  \n",
      "20   0.4516      0.0106         0.0009  \n",
      "21   0.4499      0.0077         0.0012  \n",
      "22   0.4486      0.0110         0.0011  \n",
      "23   0.4501      0.0086         0.0012  \n",
      "24   0.4490      0.0128         0.0010  \n",
      "25   0.4509      0.0177         0.0011  \n",
      "26   0.4531      0.0194         0.0014  \n",
      "27   0.4539      0.0188         0.0015  \n",
      "28   0.4536      0.0168         0.0021  \n",
      "29   0.4527      0.0199         0.0019  \n",
      "..      ...         ...            ...  \n",
      "82   1.0407      1.0000         0.0061  \n",
      "83   1.0427      1.0000         0.0050  \n",
      "84   1.0394      1.0000         0.0058  \n",
      "85   1.0415      1.0000         0.0068  \n",
      "86   1.0438      1.0000         0.0062  \n",
      "87   1.0539      1.0000         0.0064  \n",
      "88   1.0537      1.0000         0.0078  \n",
      "89   1.0445      1.0000         0.0065  \n",
      "90   1.0530      1.0000         0.0066  \n",
      "91   1.0614      1.0000         0.0062  \n",
      "92   1.0618      1.0000         0.0067  \n",
      "93   1.0684      1.0000         0.0074  \n",
      "94   1.0688      1.0000         0.0070  \n",
      "95   1.0669      1.0000         0.0060  \n",
      "96   1.0731      1.0000         0.0062  \n",
      "97   1.0749      1.0000         0.0060  \n",
      "98   1.0861      1.0000         0.0064  \n",
      "99   1.0929      1.0000         0.0063  \n",
      "100  1.0973      1.0000         0.0073  \n",
      "101  1.1062      1.0000         0.0073  \n",
      "102  1.1075      1.0000         0.0073  \n",
      "103  1.1091      1.0000         0.0073  \n",
      "104  1.1068      1.0000         0.0073  \n",
      "105  1.1185      1.0000         0.0073  \n",
      "106  1.1227      1.0000         0.0073  \n",
      "107  1.1263      1.0000         0.0073  \n",
      "108  1.1257      1.0000         0.0073  \n",
      "109  1.1248      1.0000         0.0073  \n",
      "110  1.1257      1.0000         0.0073  \n",
      "111  1.1276      1.0000         0.0073  \n",
      "\n",
      "[112 rows x 10 columns]\n"
     ]
    }
   ],
   "source": [
    "traj_i = solver_i.run(param_values=param_values_i)\n",
    "print(exp_data)"
   ]
  },
  {
   "cell_type": "code",
   "execution_count": 4,
   "metadata": {},
   "outputs": [
    {
     "ename": "NameError",
     "evalue": "name 'traj_i' is not defined",
     "output_type": "error",
     "traceback": [
      "\u001b[0;31m---------------------------------------------------------------------------\u001b[0m",
      "\u001b[0;31mNameError\u001b[0m                                 Traceback (most recent call last)",
      "\u001b[0;32m<ipython-input-4-060ed32978da>\u001b[0m in \u001b[0;36m<module>\u001b[0;34m()\u001b[0m\n\u001b[0;32m----> 1\u001b[0;31m \u001b[0mprint\u001b[0m\u001b[0;34m(\u001b[0m\u001b[0mlen\u001b[0m\u001b[0;34m(\u001b[0m\u001b[0mtraj_i\u001b[0m\u001b[0;34m.\u001b[0m\u001b[0mobservables\u001b[0m\u001b[0;34m[\u001b[0m\u001b[0;34m'mBid'\u001b[0m\u001b[0;34m]\u001b[0m\u001b[0;34m)\u001b[0m\u001b[0;34m,\u001b[0m\u001b[0mlen\u001b[0m\u001b[0;34m(\u001b[0m\u001b[0mexp_data\u001b[0m\u001b[0;34m[\u001b[0m\u001b[0;34m'norm_IC-RP'\u001b[0m\u001b[0;34m]\u001b[0m\u001b[0;34m)\u001b[0m\u001b[0;34m)\u001b[0m\u001b[0;34m\u001b[0m\u001b[0;34m\u001b[0m\u001b[0m\n\u001b[0m",
      "\u001b[0;31mNameError\u001b[0m: name 'traj_i' is not defined"
     ]
    }
   ],
   "source": [
    "print(len(traj_i.observables['mBid']),len(exp_data['norm_IC-RP']))\n"
   ]
  },
  {
   "cell_type": "code",
   "execution_count": 20,
   "metadata": {},
   "outputs": [
    {
     "data": {
      "text/plain": [
       "[<matplotlib.lines.Line2D at 0x7fbfa29aef60>]"
      ]
     },
     "execution_count": 20,
     "metadata": {},
     "output_type": "execute_result"
    },
    {
     "data": {
      "image/png": "[encoded data removed]",
      "text/plain": [
       "<Figure size 432x288 with 1 Axes>"
      ]
     },
     "metadata": {},
     "output_type": "display_data"
    }
   ],
   "source": [
    "plt.plot(traj_i.observables['mBid'], )"
   ]
  },
  {
   "cell_type": "code",
   "execution_count": 27,
   "metadata": {},
   "outputs": [
    {
     "data": {
      "text/plain": [
       "[<matplotlib.lines.Line2D at 0x7fbfa41fcf28>]"
      ]
     },
     "execution_count": 27,
     "metadata": {},
     "output_type": "execute_result"
    },
    {
     "data": {
      "image/png": "[encoded data removed]",
      "text/plain": [
       "<Figure size 432x288 with 1 Axes>"
      ]
     },
     "metadata": {},
     "output_type": "display_data"
    }
   ],
   "source": [
    "plt.plot(traj_e.observables['mBid'] / me.parameters['Bid_0'].value)"
   ]
  },
  {
   "cell_type": "code",
   "execution_count": 26,
   "metadata": {},
   "outputs": [
    {
     "data": {
      "text/plain": [
       "[<matplotlib.lines.Line2D at 0x7fbfa3271f98>]"
      ]
     },
     "execution_count": 26,
     "metadata": {},
     "output_type": "execute_result"
    },
    {
     "data": {
      "image/png": "[encoded data removed]",
      "text/plain": [
       "<Figure size 432x288 with 1 Axes>"
      ]
     },
     "metadata": {},
     "output_type": "display_data"
    }
   ],
   "source": [
    "plt.plot(exp_data['norm_IC-RP'])"
   ]
  },
  {
   "cell_type": "code",
   "execution_count": 7,
   "metadata": {},
   "outputs": [],
   "source": [
    "# save the trajectories of the ODE integration for analysis\n",
    "traj_i = solver_i.run(param_values=param_values_i)\n",
    "traj_d = solver_d.run(param_values=param_values_d)\n",
    "traj_e = solver_e.run(param_values=param_values_e)\n",
    "\n",
    "\n",
    "# normalize the trajectories to the initial conditions\n",
    "normal_bid_factor = mi.parameters['Bid_0'].value\n",
    "normal_smac_factor = mi.parameters['Smac_0'].value\n",
    "normal_parp_factor = mi.parameters['PARP_0'].value\n",
    "\n",
    "bid_traj_i = traj_i.observables['mBid'] / normal_bid_factor\n",
    "bid_traj_d = traj_d.observables['mBid'] / normal_bid_factor\n",
    "bid_traj_e = traj_e.observables['mBid'] / normal_bid_factor\n",
    "\n",
    "aSmac_traj_i = traj_i.observables['aSmac'] / normal_smac_factor\n",
    "aSmac_traj_d = traj_d.observables['aSmac'] / normal_smac_factor\n",
    "aSmac_traj_e = traj_e.observables['aSmac'] / normal_smac_factor\n",
    "\n",
    "cparp_traj_i = traj_i.observables['cPARP'] / normal_parp_factor\n",
    "cparp_traj_d = traj_d.observables['cPARP'] / normal_parp_factor\n",
    "cparp_traj_e = traj_e.observables['cPARP'] / normal_parp_factor"
   ]
  },
  {
   "cell_type": "code",
   "execution_count": 4,
   "metadata": {},
   "outputs": [
    {
     "data": {
      "text/plain": [
       "<matplotlib.legend.Legend at 0x7f7a0dd5ad30>"
      ]
     },
     "execution_count": 4,
     "metadata": {},
     "output_type": "execute_result"
    },
    {
     "data": {
      "image/png": "[encoded data removed]",
      "text/plain": [
       "<Figure size 432x288 with 1 Axes>"
      ]
     },
     "metadata": {},
     "output_type": "display_data"
    }
   ],
   "source": [
    "# plot and compare tBid\n",
    "\n",
    "plt.plot(tspan, bid_traj_i, color='r', marker='^', label='tBID, indirect model')\n",
    "plt.plot(tspan, bid_traj_d, color='b', marker='^', label='tBID, direct model')\n",
    "plt.plot(tspan, bid_traj_e, color='g', marker='^', label='tBID, embedded model')\n",
    "plt.errorbar(exp_data['# Time'], exp_data['norm_IC-RP'],yerr=exp_data['nrm_var_IC-RP'] ** .5,\n",
    "             ecolor='black', color='black', elinewidth=0.5, capsize=0)\n",
    "plt.legend(loc=0)"
   ]
  },
  {
   "cell_type": "code",
   "execution_count": 5,
   "metadata": {},
   "outputs": [
    {
     "data": {
      "text/plain": [
       "<matplotlib.legend.Legend at 0x7f7a0c526f28>"
      ]
     },
     "execution_count": 5,
     "metadata": {},
     "output_type": "execute_result"
    },
    {
     "data": {
      "image/png": "[encoded data removed]",
      "text/plain": [
       "<Figure size 432x288 with 1 Axes>"
      ]
     },
     "metadata": {},
     "output_type": "display_data"
    }
   ],
   "source": [
    "# plot and compare Smac\n",
    "# the release of Smac is in a Snap action ([Albeck2008])\n",
    "# this data displays the time in which this snap happens\n",
    "\n",
    "# Mean and variance of Td (delay time) and Ts (switching time) of MOMP, and\n",
    "# yfinal (the last value of the IMS-RP trajectory)\n",
    "momp_data = np.array([9810.0, 180.0, mi.parameters['Smac_0'].value])\n",
    "momp_var = np.array([7245000.0, 3600.0, 1e4])\n",
    "\n",
    "plt.plot(tspan, aSmac_traj_i, color='r', label='aSMAC, indirect model')\n",
    "plt.plot(tspan, aSmac_traj_d, color='b', label='aSMAC, direct model')\n",
    "plt.plot(tspan, aSmac_traj_e, color='g', label='aSMAC, embedded model')\n",
    "plt.axvline(momp_data[0], -0.05, 1.05, color='black', linestyle=':',label='exp aSMAC')\n",
    "plt.legend(loc=0)"
   ]
  },
  {
   "cell_type": "code",
   "execution_count": 6,
   "metadata": {},
   "outputs": [
    {
     "data": {
      "text/plain": [
       "<matplotlib.legend.Legend at 0x7f7a0c502be0>"
      ]
     },
     "execution_count": 6,
     "metadata": {},
     "output_type": "execute_result"
    },
    {
     "data": {
      "image/png": "[encoded data removed]",
      "text/plain": [
       "<Figure size 432x288 with 1 Axes>"
      ]
     },
     "metadata": {},
     "output_type": "display_data"
    }
   ],
   "source": [
    "# plot and compare PARP\n",
    "\n",
    "plt.plot(tspan, cparp_traj_i, color='r', marker='*', label='cPARP, indirect model')\n",
    "plt.plot(tspan, cparp_traj_d, color='b', marker='*', label='cPARP, direct model')\n",
    "plt.plot(tspan, cparp_traj_e, color='g', marker='*', label='cPARP, embedded model')\n",
    "plt.errorbar(exp_data['# Time'], exp_data['norm_EC-RP'],\n",
    "                 yerr=exp_data['nrm_var_EC-RP'] ** .5,\n",
    "                 ecolor='black', color='black', elinewidth=0.5, capsize=0)\n",
    "plt.legend(loc=0)"
   ]
  },
  {
   "cell_type": "code",
   "execution_count": 7,
   "metadata": {},
   "outputs": [],
   "source": [
    "# define a function which evaluates how far the model is away from the real data\n",
    "# this cost function is based on the chi^2 test\n",
    "# this cost function is specifically tailored to EARM\n",
    "\n",
    "def likelihood(position):\n",
    "    param_values[rate_mask] = 10 ** position\n",
    "    traj = solver.run(param_values=param_values)\n",
    "\n",
    "    model = mi\n",
    "    # normalize trajectories\n",
    "    bid_traj = traj.observables['mBid'] / model.parameters['Bid_0'].value\n",
    "    cparp_traj = traj.observables['cPARP'] / model.parameters['PARP_0'].value\n",
    "    momp_traj = traj.observables['aSmac']\n",
    "\n",
    "    # calculate chi^2 distance for each time course\n",
    "    e1 = np.sum((exp_data['norm_IC-RP'] - bid_traj) ** 2 /\n",
    "                (2 * exp_data['nrm_var_IC-RP'])) / len(bid_traj)\n",
    "\n",
    "    e2 = np.sum((exp_data['norm_EC-RP'] - cparp_traj) ** 2 /\n",
    "                (2 * exp_data['nrm_var_EC-RP'])) / len(cparp_traj)\n",
    "\n",
    "    # Here we fit a spline to find where we get 50% release of MOMP reporter\n",
    "    if np.nanmax(momp_traj) == 0:\n",
    "        print('No aSmac!')\n",
    "        t10 = 0\n",
    "        t90 = 0\n",
    "    else:\n",
    "        ysim_momp_norm = momp_traj / np.nanmax(momp_traj)\n",
    "        st, sc, sk = scipy.interpolate.splrep(tspan, ysim_momp_norm)\n",
    "        try:\n",
    "            t10 = scipy.interpolate.sproot((st, sc - 0.10, sk))[0]\n",
    "            t90 = scipy.interpolate.sproot((st, sc - 0.90, sk))[0]\n",
    "        except IndexError:\n",
    "            t10 = 0\n",
    "            t90 = 0\n",
    "\n",
    "    # time of death  = halfway point between 10 and 90%\n",
    "    td = (t10 + t90) / 2\n",
    "\n",
    "    # time of switch is time between 90 and 10 %\n",
    "    ts = t90 - t10\n",
    "\n",
    "    # final fraction of aSMAC (last value)\n",
    "    yfinal = momp_traj[-1]\n",
    "    momp_sim = [td, ts, yfinal]\n",
    "\n",
    "    e3 = np.sum((momp_data - momp_sim) ** 2 / (2 * momp_var)) / 3\n",
    "    # return sum of errors ( the ',' is required)\n",
    "    return e1 + e2 + e3,"
   ]
  },
  {
   "cell_type": "code",
   "execution_count": 8,
   "metadata": {},
   "outputs": [
    {
     "name": "stdout",
     "output_type": "stream",
     "text": [
      "iteration\tbest   \tavg             \tstd             \tmin          \tmax              \n",
      "1        \t55.1292\t[23629.18408795]\t[45885.85182874]\t[55.12923727]\t[154464.79284718]\n",
      "2        \t37.3492\t[38226.98216912]\t[53240.65036598]\t[37.34918388]\t[169520.28691027]\n",
      "3        \t37.3492\t[38227.0227442] \t[53240.65110395]\t[37.34918388]\t[169520.28691027]\n",
      "4        \t37.3492\t[38230.68179675]\t[53240.72070434]\t[37.34918388]\t[169520.28691027]\n",
      "5        \t37.3492\t[38230.68179675]\t[53240.72070434]\t[37.34918388]\t[169520.28691027]\n",
      "6        \t37.3492\t[38230.68179675]\t[53240.72070434]\t[37.34918388]\t[169520.28691027]\n",
      "7        \t37.3492\t[38230.68179675]\t[53240.72070434]\t[37.34918388]\t[169520.28691027]\n",
      "8        \t37.3492\t[38227.01065748]\t[53240.65117235]\t[37.34918388]\t[169520.28691027]\n",
      "9        \t37.3492\t[38227.03181996]\t[53240.63534022]\t[37.34918388]\t[169520.28691027]\n",
      "10       \t37.3492\t[38228.06754132]\t[53240.65264277]\t[37.34918388]\t[169520.28691027]\n",
      "11       \t37.3492\t[38230.70774902]\t[53240.70362352]\t[37.34918388]\t[169520.28691027]\n",
      "12       \t37.3492\t[38227.55709469]\t[53240.66118152]\t[37.34918388]\t[169520.28691027]\n",
      "13       \t33.4761\t[38228.77267185]\t[53241.40870397]\t[33.47605885]\t[169520.28691027]\n",
      "14       \t33.436 \t[38226.48727981]\t[53241.34943102]\t[33.43599176]\t[169520.28691027]\n",
      "15       \t33.436 \t[38224.72945132]\t[53241.44918679]\t[33.43599176]\t[169520.28691027]\n",
      "16       \t33.436 \t[38225.75123]   \t[53241.42902561]\t[33.43599176]\t[169520.28691027]\n",
      "17       \t33.436 \t[38224.59322963]\t[53241.45432813]\t[33.43599176]\t[169520.28691027]\n",
      "18       \t33.436 \t[38224.72127758]\t[53242.34685084]\t[33.43599176]\t[169520.28691027]\n",
      "19       \t33.436 \t[38232.60320864]\t[53242.29325859]\t[33.43599176]\t[169519.82036621]\n",
      "20       \t33.436 \t[38377.43162449]\t[53239.70892463]\t[33.43599176]\t[169642.28212309]\n",
      "21       \t33.436 \t[38289.44832993]\t[53386.00137847]\t[33.43599176]\t[170973.15491319]\n",
      "22       \t33.436 \t[38269.77022879]\t[53388.51700747]\t[33.43599176]\t[170973.15491319]\n",
      "23       \t33.436 \t[38230.69235158]\t[53401.82509951]\t[33.43599176]\t[170973.1653111] \n",
      "24       \t33.436 \t[38195.5070448] \t[53427.25578678]\t[33.43599176]\t[170973.19928265]\n",
      "25       \t33.436 \t[38414.4977112] \t[53354.85741561]\t[33.43599176]\t[170973.16031706]\n",
      "26       \t33.436 \t[37737.34468919]\t[53110.80308321]\t[33.43599176]\t[167528.71234048]\n",
      "27       \t33.436 \t[39500.07173345]\t[56987.3173918] \t[33.43599176]\t[179212.02813436]\n",
      "28       \t33.436 \t[41706.08340617]\t[57318.63382841]\t[33.43599176]\t[177994.31707426]\n",
      "29       \t28.5501\t[40759.92069294]\t[57494.56239974]\t[28.5501328] \t[171731.2522211] \n",
      "30       \t28.5501\t[38630.96671237]\t[58492.46267375]\t[28.55013285]\t[179330.74498504]\n",
      "31       \t28.5501\t[40188.18009033]\t[60541.10532554]\t[28.55013285]\t[177239.4297238] \n",
      "32       \t28.5501\t[33750.0389899] \t[51903.06038403]\t[28.55013281]\t[182974.94638718]\n",
      "33       \t28.5501\t[34572.60278865]\t[53746.37781979]\t[28.55013278]\t[174209.20407561]\n",
      "34       \t26.8833\t[24695.21785349]\t[50023.24981503]\t[26.88333328]\t[176178.3748514] \n",
      "35       \t20.5137\t[18481.2465129] \t[46092.0732728] \t[20.51372972]\t[180679.92081717]\n",
      "36       \t13.918 \t[10561.66362334]\t[27298.53241639]\t[13.91795762]\t[126424.07400486]\n",
      "37       \t8.76907\t[6816.98296361] \t[29818.09010325]\t[8.76906623] \t[152301.99305622]\n",
      "38       \t8.76907\t[6964.88727212] \t[33442.21256179]\t[9.40481006] \t[170784.86527229]\n",
      "39       \t7.36432\t[2749.13666094] \t[13211.65515084]\t[7.36431552] \t[67469.55258805] \n",
      "40       \t4.65758\t[20.37458678]   \t[20.64832529]   \t[4.657578]   \t[97.29167834]    \n",
      "41       \t4.65758\t[14.45396332]   \t[9.81104263]    \t[4.80650293] \t[51.94975283]    \n",
      "42       \t4.59743\t[11.87475614]   \t[14.35332881]   \t[4.59742739] \t[80.58312827]    \n",
      "43       \t4.0323 \t[13.17045907]   \t[23.42496876]   \t[4.03229907] \t[125.25203831]   \n",
      "44       \t4.0323 \t[10.47181504]   \t[12.06685715]   \t[4.0412447]  \t[65.66555356]    \n",
      "45       \t3.93699\t[5.82295333]    \t[2.44568936]    \t[3.93698749] \t[15.8511515]     \n",
      "46       \t3.89487\t[5.91882949]    \t[2.77578211]    \t[3.89487263] \t[16.45741034]    \n",
      "47       \t3.8623 \t[5.28828506]    \t[2.46134133]    \t[3.86230338] \t[16.67867284]    \n",
      "48       \t3.78228\t[4.89666716]    \t[1.33723375]    \t[3.78227526] \t[8.10267108]     \n",
      "49       \t3.78228\t[4.39276095]    \t[1.14822585]    \t[3.81523716] \t[9.81324984]     \n",
      "50       \t3.78055\t[4.05899258]    \t[0.29797639]    \t[3.7805465]  \t[5.00574995]     \n",
      "51       \t3.78055\t[3.97567272]    \t[0.28018598]    \t[3.78088703] \t[5.10621468]     \n",
      "52       \t3.76083\t[3.98469332]    \t[0.58661189]    \t[3.76082993] \t[6.81738201]     \n",
      "53       \t3.76083\t[3.8788234]     \t[0.16891149]    \t[3.76347547] \t[4.36785022]     \n",
      "54       \t3.76083\t[3.89173246]    \t[0.27010567]    \t[3.76479423] \t[5.08227134]     \n",
      "55       \t3.76083\t[3.85568787]    \t[0.22434389]    \t[3.76166876] \t[4.90357085]     \n",
      "56       \t3.76083\t[3.79710199]    \t[0.03937617]    \t[3.76177935] \t[3.90895419]     \n",
      "57       \t3.76053\t[3.79453769]    \t[0.05911891]    \t[3.76052995] \t[4.0558846]      \n",
      "58       \t3.76008\t[3.77572703]    \t[0.02104354]    \t[3.7600839]  \t[3.84044782]     \n",
      "59       \t3.75986\t[3.77178736]    \t[0.01648606]    \t[3.75986317] \t[3.81748499]     \n",
      "60       \t3.75891\t[3.76610004]    \t[0.01135392]    \t[3.75890688] \t[3.798693]       \n",
      "61       \t3.75756\t[3.76193017]    \t[0.00731415]    \t[3.75755543] \t[3.79549017]     \n",
      "62       \t3.75756\t[3.75916175]    \t[0.00122375]    \t[3.75789687] \t[3.7637582]      \n",
      "63       \t3.7574 \t[3.75861579]    \t[0.00232504]    \t[3.75740267] \t[3.76764492]     \n",
      "64       \t3.75713\t[3.75765836]    \t[0.00071751]    \t[3.75713256] \t[3.75978587]     \n",
      "65       \t3.75689\t[3.75721697]    \t[0.00030885]    \t[3.75688718] \t[3.75828403]     \n",
      "66       \t3.75676\t[3.75699825]    \t[0.00024501]    \t[3.75675642] \t[3.7580455]      \n",
      "67       \t3.75648\t[3.75677042]    \t[0.00011137]    \t[3.75647621] \t[3.75696216]     \n",
      "68       \t3.75648\t[3.75663564]    \t[7.47488906e-05]\t[3.75649118] \t[3.75677228]     \n",
      "69       \t3.75647\t[3.75654161]    \t[4.26355443e-05]\t[3.75646786] \t[3.75665843]     \n",
      "70       \t3.75644\t[3.75648476]    \t[2.98626715e-05]\t[3.75644491] \t[3.75654578]     \n",
      "71       \t3.75642\t[3.75645519]    \t[2.09055254e-05]\t[3.75642008] \t[3.75650664]     \n",
      "72       \t3.75641\t[3.75643514]    \t[1.25842186e-05]\t[3.75641275] \t[3.75646247]     \n",
      "Stopping criteria reached.\n"
     ]
    }
   ],
   "source": [
    "# load simple PSO for the particle swarm optimization\n",
    "# this method re-evaluates the rate constants\n",
    "# and tailors them to the real data\n",
    "from simplepso.pso import PSO\n",
    "\n",
    "# get the original parameters from the model\n",
    "rate_params_i = mi.parameters_rules()\n",
    "rate_params_d = md.parameters_rules()\n",
    "rate_params_e = me.parameters_rules()\n",
    "\n",
    "# the parameter set also includes initial conditions \n",
    "# those are not to be changed, so this mask filters\n",
    "# purely the rates from the parameters which need to be trained\n",
    "rate_mask_i = np.array([p in rate_params_i for p in mi.parameters])\n",
    "rate_mask_d = np.array([p in rate_params_d for p in md.parameters])\n",
    "rate_mask_e = np.array([p in rate_params_e for p in me.parameters])\n",
    "\n",
    "# the original values are used as starting position for the PSO\n",
    "# PSO searches in log-space for efficiency, therefore, the\n",
    "# initial data is transformed into log-space\n",
    "starting_position_i = np.log10(param_values_i[rate_mask_i])\n",
    "starting_position_d = np.log10(param_values_d[rate_mask_d])\n",
    "starting_position_e = np.log10(param_values_e[rate_mask_e])\n",
    "\n",
    "# create a PSO object for the first model\n",
    "# the parameter values to be trained are the rates from this model\n",
    "param_values = param_values_i\n",
    "rate_mask = rate_mask_i\n",
    "solver = solver_i\n",
    "pso_i = PSO(save_sampled=False, verbose=True, num_proc=4)\n",
    "# use the above defined likelihood function as cost-function for the PSO\n",
    "pso_i.set_cost_function(likelihood)\n",
    "pso_i.set_start_position(starting_position_i)\n",
    "pso_i.set_bounds(2)\n",
    "\n",
    "# run to minimize for the best fit \n",
    "# if stopping criteria is reached, run again\n",
    "pso_i.run(num_particles=25, num_iterations=100, stop_threshold=1e-5)"
   ]
  },
  {
   "cell_type": "code",
   "execution_count": 9,
   "metadata": {},
   "outputs": [
    {
     "data": {
      "text/plain": [
       "Particle([-8.39794001, -4.44175585, -6.20118278, -4.        , -5.        ,\n",
       "           2.        , -6.48471934, -1.        ,  1.04550892, -4.        ,\n",
       "          -1.50822631, -7.99442729, -4.89313584,  0.        , -3.60741657,\n",
       "           0.        , -3.95706077, -4.48365026, -4.96844789, -2.        ,\n",
       "          -9.30103   , -1.66201103, -6.55587746, -1.00314219, -2.        ,\n",
       "          -6.00620518, -1.        , -3.16388571, -2.49177267, -5.        ,\n",
       "          -1.00320058,  1.89835709, -7.69897   , -1.        , -3.        ,\n",
       "          -5.90254966, -4.        , -2.        , -8.        , -4.75200092,\n",
       "          -1.27590641, -5.60018828, -4.94550013, -2.        ,  0.50366395,\n",
       "          -5.        , -4.        , -4.        , -0.52627892, -4.        ,\n",
       "          -3.56799151, -4.        , -3.99821534, -0.29172547, -8.        ,\n",
       "          -1.11115584, -4.        ,  0.07918125, -4.        , -0.27253672,\n",
       "          -8.        ,  0.        , -8.        , -1.9778135 , -5.13012948,\n",
       "          -2.49311415, -6.8945987 , -0.1359889 , -4.50642793,  0.04139269,\n",
       "          -4.        ,  0.        , -8.        ,  0.2787536 , -5.69019615,\n",
       "          -4.00704646, -1.71583352, -1.        , -1.69019615, -1.        ,\n",
       "          -1.71664851, -1.30260158, -5.69019615, -4.45062317, -5.69019615,\n",
       "          -4.64482488, -3.79492704, -1.16041441,  2.98454493, -2.54406802,\n",
       "          -4.94076437,  2.34407161, -2.54406802, -1.        , -0.99678865,\n",
       "          -6.46194336, -1.        ,  0.34079394])"
      ]
     },
     "metadata": {},
     "output_type": "display_data"
    }
   ],
   "source": [
    "# new rate parameters for the indirect model\n",
    "display(pso_i.best)\n",
    "\n",
    "# run indirect model with newly suggested rates\n",
    "# results of PSO are in log-space -> retransform into normal space\n",
    "param_values[rate_mask] = 10 ** pso_i.best\n",
    "\n",
    "# save the new parameters for later use in an external csv file\n",
    "np.savetxt(\"fitted_model_i_parameters.csv\", param_values)\n",
    "\n",
    "# run the indirect model with the new rate parameters\n",
    "traj_i = solver_i.run(param_values=param_values)\n",
    "\n",
    "# normalize the results again\n",
    "bid_traj_i = traj_i.observables['mBid'] / normal_bid_factor\n",
    "cparp_traj_i = traj_i.observables['cPARP'] / normal_parp_factor\n",
    "aSmac_traj_i = traj_i.observables['aSmac'] / normal_smac_factor"
   ]
  },
  {
   "cell_type": "code",
   "execution_count": 10,
   "metadata": {},
   "outputs": [
    {
     "name": "stdout",
     "output_type": "stream",
     "text": [
      "iteration\tbest   \tavg             \tstd             \tmin          \tmax              \n",
      "1        \t53.0135\t[67494.91370274]\t[67941.82340755]\t[53.01351234]\t[166466.79308864]\n",
      "No aSmac!\n",
      "2        \t25.8119\t[114548.29961592]\t[74212.02014932]\t[25.81193701]\t[174309.44088048]\n",
      "No aSmac!\n",
      "3        \t25.8119\t[114548.12002818]\t[74211.88398422]\t[25.81193701]\t[174309.44088048]\n",
      "No aSmac!\n",
      "4        \t25.8119\t[109300.69730748]\t[76263.2773964] \t[25.81193701]\t[174309.44088048]\n",
      "No aSmac!\n",
      "5        \t25.8119\t[109302.27377862]\t[76261.36809607]\t[25.81193701]\t[174309.44088048]\n",
      "No aSmac!\n",
      "6        \t25.8119\t[109558.76290622]\t[75960.5464285] \t[25.81193701]\t[174309.44088048]\n",
      "No aSmac!\n",
      "7        \t25.8119\t[113778.54142987]\t[73959.24226689]\t[25.81193701]\t[174309.44088048]\n",
      "No aSmac!\n",
      "8        \t25.8119\t[109300.69496255]\t[76263.28334377]\t[25.81193701]\t[174309.44088048]\n",
      "No aSmac!\n",
      "9        \t25.8119\t[109300.55706521]\t[76263.45038949]\t[25.81193701]\t[174309.44088048]\n",
      "No aSmac!\n",
      "10       \t25.8119\t[113938.24119169]\t[73977.69944292]\t[25.81193701]\t[174309.44088048]\n",
      "No aSmac!\n",
      "11       \t25.8119\t[109194.38754639]\t[76200.22592893]\t[25.81193701]\t[174309.44088048]\n",
      "No aSmac!\n",
      "12       \t25.8119\t[109188.14607033]\t[76207.58029399]\t[25.81193701]\t[174309.44088048]\n",
      "No aSmac!\n",
      "13       \t25.8119\t[109573.94943689]\t[75943.35049538]\t[25.81193701]\t[174309.44088048]\n",
      "No aSmac!\n",
      "14       \t25.8119\t[111477.08587524]\t[74288.47523324]\t[25.81193701]\t[174309.44088048]\n",
      "15       \t25.8119\t[103970.18552696]\t[77606.94223823]\t[25.81193701]\t[174309.44088048]\n",
      "16       \t25.8119\t[103079.65756096]\t[78463.8854271] \t[25.81193701]\t[174309.44088048]\n",
      "17       \t25.8119\t[103885.38362026]\t[77674.13076836]\t[25.81193701]\t[174309.44088048]\n",
      "18       \t25.8119\t[105487.72296618]\t[76563.27231208]\t[25.81193701]\t[174309.44088048]\n",
      "No aSmac!\n",
      "19       \t25.8119\t[102674.47521304]\t[78120.89347064]\t[25.81193701]\t[174309.44088048]\n",
      "20       \t25.8119\t[102974.89524335]\t[78380.68669014]\t[25.81193701]\t[174309.44977828]\n",
      "No aSmac!\n",
      "21       \t25.8119\t[101674.25927352]\t[77275.66809074]\t[25.81193701]\t[174309.96518998]\n",
      "22       \t25.8119\t[101969.22807023]\t[75780.83945056]\t[25.81193701]\t[174310.01587044]\n",
      "No aSmac!\n",
      "23       \t25.8119\t[99612.29372143] \t[76294.5593788] \t[25.81193701]\t[174309.44978103]\n",
      "No aSmac!\n",
      "24       \t25.8119\t[99857.98944897] \t[76780.56647084]\t[25.81193701]\t[174309.31634208]\n",
      "No aSmac!\n",
      "25       \t25.8119\t[100881.36072374]\t[77219.99841132]\t[25.81193701]\t[174309.99280201]\n",
      "26       \t25.8119\t[104807.75428011]\t[75565.4151294] \t[25.81193701]\t[174310.01247508]\n",
      "No aSmac!\n",
      "27       \t25.8119\t[99272.60259964] \t[76798.82511617]\t[25.81193701]\t[173845.22986253]\n",
      "28       \t25.8119\t[106305.61746002]\t[73594.15131703]\t[25.81193701]\t[174152.71193557]\n",
      "29       \t25.8119\t[104414.1305685] \t[77405.00853921]\t[25.81193701]\t[173662.21644106]\n",
      "30       \t25.8119\t[99129.78512504] \t[79998.31418613]\t[25.81193701]\t[172661.67923675]\n",
      "31       \t25.8119\t[94618.86954947] \t[78846.16537178]\t[25.81193701]\t[172512.27067571]\n",
      "32       \t25.8119\t[83785.60648047] \t[78503.74166579]\t[25.81193701]\t[168015.22742243]\n",
      "No aSmac!\n",
      "33       \t25.8119\t[80136.82328691] \t[74017.32580233]\t[25.81193701]\t[168724.30020705]\n",
      "34       \t16.6201\t[64110.41237007] \t[78295.00299401]\t[16.62011365]\t[171826.21328529]\n",
      "35       \t14.2882\t[48894.53421466] \t[69780.39253942]\t[14.28817516]\t[168823.55736101]\n",
      "36       \t14.2882\t[21765.99722269] \t[50647.51778748]\t[35.2363488] \t[167857.16329816]\n",
      "37       \t14.2882\t[6677.65509394]  \t[31422.08596769]\t[17.87177924]\t[160603.77365623]\n",
      "38       \t14.2882\t[132.76858945]   \t[133.27704967]  \t[15.52181437]\t[650.24751283]   \n",
      "39       \t13.25  \t[6528.41431522]  \t[31475.64217742]\t[13.24999172]\t[160725.54165167]\n",
      "40       \t10.7038\t[69.54395174]    \t[100.19339937]  \t[10.7038237] \t[493.85800863]   \n",
      "41       \t10.1261\t[6790.42680904]  \t[32993.98198773]\t[10.12611777]\t[168427.03640557]\n",
      "42       \t9.58896\t[6504.22670488]  \t[31674.56203998]\t[9.58895842] \t[161677.15950985]\n",
      "43       \t6.58821\t[6753.10206369]  \t[32903.59010979]\t[6.58821369] \t[167947.02473592]\n",
      "44       \t6.30312\t[33.56323212]    \t[46.83100757]   \t[6.30311884] \t[198.07197288]   \n",
      "45       \t5.92638\t[36.72864067]    \t[76.37751855]   \t[5.92637505] \t[381.89449808]   \n",
      "46       \t5.31682\t[43.1315312]     \t[75.12908831]   \t[5.31681916] \t[328.20524628]   \n",
      "47       \t5.0922 \t[1202.55564041]  \t[5820.7726867]  \t[5.0921956]  \t[29718.1947433]  \n",
      "48       \t5.07693\t[13.6283021]     \t[14.8222545]    \t[5.07692601] \t[65.5293158]     \n",
      "49       \t4.72413\t[7.57639758]     \t[4.47787356]    \t[4.72413351] \t[21.57028539]    \n",
      "50       \t4.72006\t[8.77148019]     \t[8.88794502]    \t[4.72005714] \t[42.36272134]    \n",
      "51       \t4.64885\t[14.02933384]    \t[27.81200284]   \t[4.64885202] \t[114.32767903]   \n",
      "52       \t4.60616\t[10.71712798]    \t[17.79224413]   \t[4.60616227] \t[72.67233906]    \n",
      "53       \t4.57133\t[6.65477524]     \t[5.3347861]     \t[4.57133351] \t[28.59268236]    \n",
      "54       \t4.57133\t[6.79968531]     \t[5.72892168]    \t[4.77720937] \t[32.64704702]    \n",
      "55       \t4.56318\t[5.53268443]     \t[1.87150684]    \t[4.56317551] \t[14.08347445]    \n",
      "56       \t4.51789\t[5.4523871]      \t[1.83114683]    \t[4.51788666] \t[13.96018235]    \n",
      "57       \t4.51789\t[7.11347764]     \t[7.6492303]     \t[4.5354858]  \t[43.5928309]     \n",
      "58       \t4.49271\t[8.62665779]     \t[17.53847684]   \t[4.49270604] \t[94.49282869]    \n",
      "59       \t4.45262\t[6.43368238]     \t[8.07845594]    \t[4.45261872] \t[45.99604322]    \n",
      "60       \t4.42731\t[7.39695232]     \t[12.3136409]    \t[4.42730732] \t[67.67323503]    \n",
      "61       \t4.38232\t[8.03383231]     \t[15.26197174]   \t[4.38231651] \t[82.69810976]    \n",
      "62       \t4.34473\t[5.60120882]     \t[3.71635761]    \t[4.34472708] \t[23.43674843]    \n",
      "63       \t4.33122\t[4.82152589]     \t[0.96508908]    \t[4.33122344] \t[9.26194925]     \n",
      "64       \t4.32379\t[6.64284846]     \t[8.95289104]    \t[4.32379017] \t[50.27257626]    \n",
      "65       \t4.32339\t[5.96660296]     \t[5.78121401]    \t[4.32338585] \t[33.9616313]     \n",
      "66       \t4.31401\t[4.81366906]     \t[0.95818796]    \t[4.31400632] \t[9.02499942]     \n",
      "67       \t4.31141\t[5.85239496]     \t[5.38459288]    \t[4.31141436] \t[32.04010265]    \n",
      "68       \t4.30631\t[4.81683279]     \t[1.16783946]    \t[4.30630926] \t[10.2809819]     \n",
      "69       \t4.296  \t[5.31459204]     \t[3.57286855]    \t[4.29599993] \t[22.72055699]    \n",
      "70       \t4.29278\t[7.37277391]     \t[13.60407074]   \t[4.29278303] \t[73.98691348]    \n",
      "71       \t4.29168\t[5.67644108]     \t[5.61864683]    \t[4.29167652] \t[33.10711797]    \n",
      "72       \t4.29013\t[5.32878821]     \t[4.07958262]    \t[4.29012598] \t[25.24643067]    \n",
      "73       \t4.28946\t[4.71518501]     \t[0.83265992]    \t[4.28946207] \t[7.67892758]     \n",
      "74       \t3.89407\t[4.47185263]     \t[0.37070945]    \t[3.8940659]  \t[5.7607868]      \n",
      "75       \t3.89407\t[6.44723815]     \t[2.45045448]    \t[3.94417544] \t[14.82553708]    \n",
      "76       \t3.85669\t[7.06276059]     \t[2.73954977]    \t[3.85668643] \t[14.48996746]    \n",
      "77       \t3.6871 \t[5.23416853]     \t[1.23601972]    \t[3.68710113] \t[7.7906089]      \n",
      "78       \t3.66599\t[4.47736991]     \t[0.64377309]    \t[3.66599315] \t[6.0814396]      \n",
      "79       \t3.66528\t[4.1828654]      \t[0.45633141]    \t[3.66528265] \t[6.01738292]     \n",
      "80       \t3.65764\t[4.08221028]     \t[0.3206036]     \t[3.65764163] \t[4.83202743]     \n",
      "81       \t3.61767\t[4.04100121]     \t[0.36730855]    \t[3.61767291] \t[5.2459814]      \n",
      "82       \t3.61248\t[3.9230696]      \t[0.36101871]    \t[3.61247694] \t[5.28850965]     \n",
      "83       \t3.61182\t[3.82022693]     \t[0.23260882]    \t[3.61182258] \t[4.66236078]     \n",
      "84       \t3.6036 \t[3.7578877]      \t[0.22565764]    \t[3.60359851] \t[4.72718209]     \n",
      "85       \t3.6016 \t[3.76829626]     \t[0.44084054]    \t[3.60159991] \t[5.9018059]      \n",
      "86       \t3.60084\t[3.69328012]     \t[0.20074558]    \t[3.60083744] \t[4.64785131]     \n",
      "87       \t3.57259\t[3.66137413]     \t[0.14298371]    \t[3.57258753] \t[4.33875196]     \n",
      "88       \t3.56463\t[3.64335067]     \t[0.10026758]    \t[3.56463359] \t[4.09746696]     \n",
      "89       \t3.56372\t[3.62903297]     \t[0.07998377]    \t[3.56371744] \t[3.93608178]     \n",
      "90       \t3.56079\t[3.60857946]     \t[0.05868451]    \t[3.56079185] \t[3.84616932]     \n",
      "91       \t3.55917\t[3.59610461]     \t[0.04607296]    \t[3.55916889] \t[3.79563447]     \n",
      "92       \t3.559  \t[3.58826856]     \t[0.03638367]    \t[3.55899736] \t[3.74203471]     \n",
      "93       \t3.55699\t[3.58149938]     \t[0.02448426]    \t[3.55699205] \t[3.67586057]     \n",
      "94       \t3.55681\t[3.57918791]     \t[0.02256663]    \t[3.55681166] \t[3.66711955]     \n"
     ]
    },
    {
     "name": "stdout",
     "output_type": "stream",
     "text": [
      "95       \t3.5568 \t[3.57739975]     \t[0.02172645]    \t[3.55679973] \t[3.66612864]     \n",
      "96       \t3.5568 \t[3.5753293]      \t[0.01991551]    \t[3.55679901] \t[3.65795191]     \n",
      "97       \t3.5568 \t[3.57425679]     \t[0.01940333]    \t[3.55679897] \t[3.65575098]     \n",
      "98       \t3.5568 \t[3.57352404]     \t[0.01905084]    \t[3.55679898] \t[3.65482232]     \n",
      "99       \t3.5568 \t[3.57291394]     \t[0.01896878]    \t[3.55679897] \t[3.65450174]     \n",
      "100      \t3.5568 \t[3.57239452]     \t[0.0180798]     \t[3.55679898] \t[3.64950909]     \n"
     ]
    }
   ],
   "source": [
    "# do PSO for the direct model\n",
    "\n",
    "param_values = param_values_d\n",
    "rate_mask = rate_mask_d\n",
    "solver = solver_d\n",
    "pso_d = PSO(save_sampled=False, verbose=True, num_proc=4)\n",
    "pso_d.set_cost_function(likelihood)\n",
    "pso_d.set_start_position(starting_position_d)\n",
    "pso_d.set_bounds(2)\n",
    "\n",
    "pso_d.run(num_particles=25, num_iterations=100, stop_threshold=1e-5)"
   ]
  },
  {
   "cell_type": "code",
   "execution_count": 12,
   "metadata": {},
   "outputs": [],
   "source": [
    "#run direct model with newly suggested rates\n",
    "param_values[rate_mask] = 10 ** pso_d.best\n",
    "np.savetxt(\"fitted_model_d_parameters.csv\", param_values)\n",
    "traj_d = solver_d.run(param_values=param_values)\n",
    "\n",
    "bid_traj_d = traj_d.observables['mBid'] / normal_bid_factor\n",
    "cparp_traj_d = traj_d.observables['cPARP'] / normal_parp_factor\n",
    "aSmac_traj_d = traj_d.observables['aSmac'] / normal_smac_factor"
   ]
  },
  {
   "cell_type": "code",
   "execution_count": 24,
   "metadata": {
    "scrolled": true
   },
   "outputs": [
    {
     "name": "stdout",
     "output_type": "stream",
     "text": [
      "iteration\tbest   \tavg            \tstd             \tmin          \tmax              \n",
      "1        \t19.7998\t[39173.5630225]\t[65721.21920538]\t[19.79982777]\t[169277.78135793]\n",
      "2        \t19.7998\t[89977.72472463]\t[76492.79002061]\t[57.33162935]\t[172520.42099763]\n",
      "3        \t19.7998\t[89977.72472463]\t[76492.79002061]\t[57.33162935]\t[172520.42099763]\n",
      "4        \t19.7998\t[89977.72472463]\t[76492.79002061]\t[57.33162935]\t[172520.42099763]\n",
      "5        \t19.7998\t[89977.70746086]\t[76492.80715428]\t[57.33162935]\t[172520.42099763]\n",
      "6        \t19.7998\t[89977.70745098]\t[76492.80714612]\t[57.33162935]\t[172520.42099763]\n",
      "7        \t19.7998\t[89977.59966711]\t[76492.72163396]\t[57.33162935]\t[172520.42099763]\n",
      "8        \t19.7998\t[89977.31389924]\t[76492.47617651]\t[57.33162935]\t[172520.42099763]\n",
      "9        \t19.7998\t[89988.12331415]\t[76503.33265048]\t[57.33162935]\t[172520.42099763]\n",
      "10       \t19.7998\t[89988.09818351]\t[76503.32131885]\t[56.63796078]\t[172520.42099763]\n",
      "11       \t19.7998\t[89988.16399228]\t[76503.34824596]\t[56.98242732]\t[172520.42099763]\n",
      "12       \t19.7998\t[89987.38526094]\t[76502.624192]  \t[56.98242732]\t[172520.42099763]\n",
      "13       \t19.7998\t[89984.87114491]\t[76501.56608183]\t[56.98242732]\t[172520.42099763]\n",
      "14       \t19.7998\t[89983.03535262]\t[76494.56992618]\t[56.98242732]\t[172520.42099763]\n",
      "15       \t19.7998\t[89990.83752823]\t[76502.38927268]\t[57.17504349]\t[172520.42099763]\n",
      "16       \t19.7998\t[90005.04586651]\t[76515.96781702]\t[57.20955308]\t[172520.42099763]\n",
      "17       \t19.7998\t[90066.18617117]\t[76459.30852164]\t[56.63765532]\t[172520.42099763]\n",
      "18       \t19.7998\t[90086.98703467]\t[76438.17877714]\t[56.98242732]\t[172520.42099763]\n",
      "19       \t19.7998\t[89963.62110547]\t[76503.44813658]\t[74.56543208]\t[172520.42099763]\n",
      "20       \t19.7998\t[89902.50574617]\t[76501.56689779]\t[74.56543208]\t[172520.42099763]\n",
      "21       \t19.7998\t[89999.48913173]\t[76434.68770783]\t[74.30067259]\t[172520.42099763]\n",
      "22       \t19.7998\t[89825.07830801]\t[76430.96131641]\t[71.88666415]\t[172520.44820778]\n",
      "23       \t19.7998\t[89728.78054821]\t[76494.25604077]\t[56.67831321]\t[172520.44806474]\n",
      "24       \t19.7998\t[89719.28551366]\t[76449.74467174]\t[74.56533537]\t[172519.58791666]\n",
      "25       \t19.7998\t[89800.91200881]\t[76423.7550478] \t[60.69121187]\t[172509.12867998]\n",
      "26       \t19.7998\t[90976.35995493]\t[76579.52979882]\t[56.66291012]\t[172337.9715783] \n",
      "27       \t19.7998\t[95324.38410494]\t[75584.46364953]\t[58.63611739]\t[172464.05449095]\n",
      "28       \t19.7998\t[91777.94603156]\t[75295.92136505]\t[67.57449478]\t[167311.45851702]\n",
      "No aSmac!\n",
      "29       \t19.7998\t[87647.16673078]\t[74181.82032525]\t[64.75783527]\t[167249.48862335]\n",
      "30       \t19.7998\t[82888.88024003]\t[73962.10916066]\t[69.39210065]\t[178046.69670962]\n",
      "No aSmac!\n",
      "31       \t19.7998\t[85181.11009837]\t[77333.52705031]\t[69.38846461]\t[175545.39309825]\n",
      "No aSmac!\n",
      "32       \t19.7998\t[80583.69002496]\t[74942.91078916]\t[64.70126664]\t[167227.1621765] \n",
      "33       \t19.7998\t[79689.95391706]\t[76327.37505727]\t[60.02267444]\t[178239.42298382]\n",
      "No aSmac!\n",
      "34       \t19.7998\t[55392.09548088]\t[69147.95829736]\t[27.05950689]\t[169733.26679363]\n",
      "35       \t19.7998\t[60587.47939427]\t[76125.23816911]\t[49.05134916]\t[178305.92505691]\n",
      "36       \t10.4218\t[29936.09688637]\t[60769.65079745]\t[10.42183959]\t[170147.61938332]\n",
      "37       \t10.4218\t[26838.98815999]\t[61115.90833754]\t[17.62847546]\t[167009.15267246]\n",
      "38       \t10.4218\t[5498.70066456] \t[25993.31026405]\t[23.79979599]\t[132823.52741418]\n",
      "39       \t7.43278\t[7163.314291]   \t[31442.18127726]\t[7.43278439] \t[160462.57922123]\n",
      "No aSmac!\n",
      "40       \t7.43278\t[13833.1369347] \t[45143.34846212]\t[12.35969372]\t[166790.36234811]\n",
      "41       \t2.84358\t[6721.53281671] \t[32665.17608141]\t[2.84357544] \t[166747.02846221]\n",
      "42       \t1.62595\t[29.48843586]   \t[31.32925713]   \t[1.62595395] \t[131.78032383]   \n",
      "43       \t1.62595\t[22.98796385]   \t[29.48233586]   \t[2.47439522] \t[149.95922119]   \n",
      "44       \t0.9424 \t[15.79841893]   \t[17.03313535]   \t[0.94239999] \t[71.08345052]    \n",
      "45       \t0.9424 \t[10.29993648]   \t[12.87778978]   \t[1.14770813] \t[63.20402599]    \n",
      "46       \t0.928409\t[8.82093159]    \t[12.87545804]   \t[0.9284085]  \t[65.40249559]    \n",
      "47       \t0.826934\t[6.48094853]    \t[11.4819861]    \t[0.82693366] \t[60.01724867]    \n",
      "48       \t0.754438\t[33.24810881]   \t[133.56479583]  \t[0.75443825] \t[686.52221082]   \n",
      "49       \t0.698432\t[7.52634295]    \t[19.12159531]   \t[0.69843206] \t[99.31343915]    \n",
      "50       \t0.638313\t[5.83816329]    \t[17.62815203]   \t[0.63831319] \t[91.42364562]    \n",
      "51       \t0.61049 \t[8.56302099]    \t[32.03897423]   \t[0.61049001] \t[165.24310965]   \n",
      "52       \t0.56241 \t[6.44692356]    \t[26.07734642]   \t[0.56241046] \t[134.18063758]   \n",
      "53       \t0.56241 \t[8.57127535]    \t[36.30771926]   \t[0.57352888] \t[186.37648732]   \n",
      "54       \t0.56241 \t[1.60325923]    \t[3.54193583]    \t[0.56470532] \t[18.78797697]    \n",
      "55       \t0.547126\t[7.19771791]    \t[30.04495787]   \t[0.5471258]  \t[154.33531506]   \n",
      "56       \t0.531769\t[1.91652095]    \t[5.00786324]    \t[0.5317688]  \t[26.3486718]     \n",
      "57       \t0.531769\t[7.83237687]    \t[34.36553074]   \t[0.55403276] \t[176.17278756]   \n",
      "58       \t0.531769\t[3.58269679]    \t[13.31442435]   \t[0.5377681]  \t[68.72608675]    \n",
      "59       \t0.531769\t[4.9193166]     \t[20.64560376]   \t[0.54155875] \t[106.05670521]   \n",
      "60       \t0.531769\t[3.18367481]    \t[12.33722678]   \t[0.53671546] \t[63.61947623]    \n",
      "61       \t0.526281\t[2.26849176]    \t[8.07481731]    \t[0.5262806]  \t[41.82356397]    \n",
      "62       \t0.526281\t[1.36213954]    \t[3.54127343]    \t[0.53068323] \t[18.70329617]    \n",
      "63       \t0.522879\t[0.62289259]    \t[0.11240061]    \t[0.5228786]  \t[0.99549272]     \n",
      "64       \t0.522879\t[1.01065688]    \t[1.68401538]    \t[0.53154181] \t[9.24501827]     \n",
      "65       \t0.522879\t[0.96834908]    \t[1.57804369]    \t[0.52591252] \t[8.68489722]     \n",
      "66       \t0.522879\t[0.63996727]    \t[0.19828826]    \t[0.52480847] \t[1.54105952]     \n",
      "67       \t0.520437\t[0.65569586]    \t[0.31077979]    \t[0.52043721] \t[2.13840335]     \n",
      "68       \t0.520125\t[0.6946166]     \t[0.361706]      \t[0.52012486] \t[2.41224204]     \n",
      "69       \t0.520125\t[0.59865953]    \t[0.07200731]    \t[0.52012482] \t[0.79108646]     \n",
      "70       \t0.520125\t[0.60999596]    \t[0.08447451]    \t[0.52013474] \t[0.81849323]     \n",
      "71       \t0.520027\t[0.6252228]     \t[0.11423748]    \t[0.52002739] \t[0.85222432]     \n",
      "72       \t0.520002\t[0.59431336]    \t[0.08248235]    \t[0.52000235] \t[0.80087682]     \n",
      "73       \t0.519996\t[0.60443757]    \t[0.08858757]    \t[0.51999572] \t[0.78668154]     \n",
      "74       \t0.519994\t[0.60368161]    \t[0.09342227]    \t[0.51999391] \t[0.80189043]     \n",
      "75       \t0.519959\t[0.56743412]    \t[0.07558232]    \t[0.51995915] \t[0.7924991]      \n",
      "76       \t0.519947\t[0.61758991]    \t[0.10596468]    \t[0.51994685] \t[0.80373476]     \n",
      "77       \t0.519947\t[0.60953581]    \t[0.10997705]    \t[0.51995158] \t[0.79943568]     \n",
      "78       \t0.519947\t[0.58305113]    \t[0.08821744]    \t[0.51995043] \t[0.79680807]     \n",
      "79       \t0.519947\t[0.5673497]     \t[0.07168946]    \t[0.51994799] \t[0.79066204]     \n",
      "80       \t0.519947\t[0.55676333]    \t[0.06856759]    \t[0.51994904] \t[0.78767184]     \n",
      "81       \t0.519947\t[0.5691723]     \t[0.08394191]    \t[0.51994773] \t[0.80604926]     \n",
      "82       \t0.519947\t[0.56673238]    \t[0.08210817]    \t[0.51994732] \t[0.7954992]      \n",
      "83       \t0.519947\t[0.55372036]    \t[0.06874659]    \t[0.51994707] \t[0.77827628]     \n",
      "84       \t0.519947\t[0.54097765]    \t[0.05380779]    \t[0.51994693] \t[0.7663538]      \n",
      "85       \t0.519947\t[0.54958517]    \t[0.06068808]    \t[0.5199469]  \t[0.7958535]      \n",
      "86       \t0.519947\t[0.5561006]     \t[0.06993067]    \t[0.51994688] \t[0.78516696]     \n",
      "87       \t0.519947\t[0.55226297]    \t[0.07490779]    \t[0.51994687] \t[0.80006506]     \n",
      "88       \t0.519947\t[0.55403778]    \t[0.07261929]    \t[0.51994686] \t[0.79213117]     \n",
      "89       \t0.519947\t[0.547581]      \t[0.07052469]    \t[0.51994685] \t[0.79269007]     \n",
      "90       \t0.519947\t[0.54658035]    \t[0.06991122]    \t[0.51994685] \t[0.807528]       \n",
      "91       \t0.51584 \t[0.53608905]    \t[0.04882155]    \t[0.51583979] \t[0.76016805]     \n",
      "92       \t0.515189\t[0.5667659]     \t[0.06783003]    \t[0.51518886] \t[0.76822419]     \n",
      "93       \t0.515189\t[0.59566324]    \t[0.08980652]    \t[0.51522862] \t[0.80100807]     \n",
      "94       \t0.515189\t[0.60133798]    \t[0.10193118]    \t[0.51522499] \t[0.80250396]     \n",
      "95       \t0.515189\t[0.59641644]    \t[0.09999416]    \t[0.51522166] \t[0.79967108]     \n",
      "96       \t0.515189\t[0.59738216]    \t[0.09766848]    \t[0.5152153]  \t[0.79272875]     \n"
     ]
    },
    {
     "name": "stdout",
     "output_type": "stream",
     "text": [
      "97       \t0.515189\t[0.59458194]    \t[0.09460392]    \t[0.51521036] \t[0.798258]       \n",
      "98       \t0.515189\t[0.5879606]     \t[0.09677217]    \t[0.51520818] \t[0.80166416]     \n",
      "99       \t0.515189\t[0.58609615]    \t[0.09269625]    \t[0.51520599] \t[0.80195423]     \n",
      "100      \t0.515189\t[0.58291163]    \t[0.08931896]    \t[0.51520523] \t[0.78586696]     \n"
     ]
    }
   ],
   "source": [
    "# do PSO for the embedded model\n",
    "\n",
    "param_values = param_values_e\n",
    "rate_mask = rate_mask_e\n",
    "solver = solver_e\n",
    "pso_e = PSO(save_sampled=False, verbose=True, num_proc=4)\n",
    "pso_e.set_cost_function(likelihood)\n",
    "pso_e.set_start_position(starting_position_e)\n",
    "pso_e.set_bounds(2)\n",
    "\n",
    "pso_e.run(num_particles=25, num_iterations=100, stop_threshold=1e-5)"
   ]
  },
  {
   "cell_type": "code",
   "execution_count": 25,
   "metadata": {},
   "outputs": [],
   "source": [
    "# run embedded model with newly suggested rates\n",
    "param_values[rate_mask] = 10 ** pso_e.best\n",
    "np.savetxt(\"fitted_model_e_parameters.csv\", param_values)\n",
    "traj_e = solver_e.run(param_values=param_values)\n",
    "\n",
    "bid_traj_e = traj_e.observables['mBid'] / normal_bid_factor\n",
    "cparp_traj_e = traj_e.observables['cPARP'] / normal_parp_factor\n",
    "aSmac_traj_e = traj_e.observables['aSmac'] / normal_smac_factor"
   ]
  },
  {
   "cell_type": "code",
   "execution_count": 26,
   "metadata": {},
   "outputs": [
    {
     "data": {
      "text/plain": [
       "<matplotlib.legend.Legend at 0x7fdfb3868240>"
      ]
     },
     "execution_count": 26,
     "metadata": {},
     "output_type": "execute_result"
    },
    {
     "data": {
      "image/png": "[encoded data removed]",
      "text/plain": [
       "<Figure size 432x288 with 1 Axes>"
      ]
     },
     "metadata": {},
     "output_type": "display_data"
    }
   ],
   "source": [
    "# compare the models using the new rates with the experimental data\n",
    "\n",
    "plt.plot(tspan, bid_traj_i, color='r', marker='^', label='tBID, indirect model')\n",
    "plt.plot(tspan, bid_traj_d, color='b', marker='^', label='tBID, direct model')\n",
    "plt.plot(tspan, bid_traj_e, color='g', marker='^', label='tBID, embedded model')\n",
    "plt.errorbar(exp_data['# Time'], exp_data['norm_IC-RP'],\n",
    "                 yerr=exp_data['nrm_var_IC-RP'] ** .5,\n",
    "                 ecolor='black', color='black', elinewidth=0.5, capsize=0)\n",
    "plt.legend(loc=0)"
   ]
  },
  {
   "cell_type": "code",
   "execution_count": 29,
   "metadata": {},
   "outputs": [
    {
     "data": {
      "text/plain": [
       "<matplotlib.legend.Legend at 0x7fdfb0140cf8>"
      ]
     },
     "execution_count": 29,
     "metadata": {},
     "output_type": "execute_result"
    },
    {
     "data": {
      "image/png": "[encoded data removed]",
      "text/plain": [
       "<Figure size 432x288 with 1 Axes>"
      ]
     },
     "metadata": {},
     "output_type": "display_data"
    }
   ],
   "source": [
    "plt.plot(tspan, aSmac_traj_i, color='r', label='aSMAC, indirect model')\n",
    "plt.plot(tspan, aSmac_traj_d, color='b', label='aSMAC, direct model')\n",
    "plt.plot(tspan, aSmac_traj_e, color='g', label='aSMAC, embedded model')\n",
    "plt.axvline(momp_data[0], -0.05, 1.05, color='black', linestyle=':',\n",
    "               label='exp aSMAC')\n",
    "plt.legend(loc=0)"
   ]
  },
  {
   "cell_type": "code",
   "execution_count": 28,
   "metadata": {},
   "outputs": [
    {
     "data": {
      "text/plain": [
       "<matplotlib.legend.Legend at 0x7fdfb0153f98>"
      ]
     },
     "execution_count": 28,
     "metadata": {},
     "output_type": "execute_result"
    },
    {
     "data": {
      "image/png": "[encoded data removed]",
      "text/plain": [
       "<Figure size 432x288 with 1 Axes>"
      ]
     },
     "metadata": {},
     "output_type": "display_data"
    }
   ],
   "source": [
    "plt.plot(tspan, cparp_traj_i, color='r', marker='*', label='cPARP, indirect model')\n",
    "plt.plot(tspan, cparp_traj_d, color='b', marker='*', label='cPARP, direct model')\n",
    "plt.plot(tspan, cparp_traj_e, color='g', marker='*', label='cPARP, embedded model')\n",
    "plt.errorbar(exp_data['# Time'], exp_data['norm_EC-RP'],\n",
    "                 yerr=exp_data['nrm_var_EC-RP'] ** .5,\n",
    "                 ecolor='black', color='black', elinewidth=0.5, capsize=0)\n",
    "plt.legend(loc=0)"
   ]
  },
  {
   "cell_type": "code",
   "execution_count": null,
   "metadata": {},
   "outputs": [],
   "source": []
  }
 ],
 "metadata": {
  "kernelspec": {
   "display_name": "Python 3",
   "language": "python",
   "name": "python3"
  },
  "language_info": {
   "codemirror_mode": {
    "name": "ipython",
    "version": 3
   },
   "file_extension": ".py",
   "mimetype": "text/x-python",
   "name": "python",
   "nbconvert_exporter": "python",
   "pygments_lexer": "ipython3",
   "version": "3.7.3"
  }
 },
 "nbformat": 4,
 "nbformat_minor": 2
}
