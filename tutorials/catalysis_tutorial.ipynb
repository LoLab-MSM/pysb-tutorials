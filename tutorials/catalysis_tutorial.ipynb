{
 "cells": [
  {
   "cell_type": "markdown",
   "metadata": {},
   "source": [
    "This tutorial shows you how to build a simple Michaelis-Menten two-step enzyme catalysis model in PySB. The figure below shows a conceptual overview."
   ]
  },
  {
   "cell_type": "code",
   "execution_count": 1,
   "metadata": {
    "collapsed": false
   },
   "outputs": [
    {
     "data": {
      "image/jpeg": "[encoded data removed]",
      "text/plain": [
       "<IPython.core.display.Image object>"
      ]
     },
     "execution_count": 1,
     "metadata": {},
     "output_type": "execute_result"
    }
   ],
   "source": [
    "from IPython.display import Image\n",
    "Image(filename='Lock-and-key.JPG')"
   ]
  },
  {
   "cell_type": "markdown",
   "metadata": {},
   "source": [
    "1) Import essential classes from PySB"
   ]
  },
  {
   "cell_type": "code",
   "execution_count": 2,
   "metadata": {
    "collapsed": false
   },
   "outputs": [],
   "source": [
    "from pysb import * # Model, Monomer, Parameter, Initial, Rule, Observable\n",
    "from pysb.macros import *"
   ]
  },
  {
   "cell_type": "markdown",
   "metadata": {},
   "source": [
    "2) Create an instance of the model class. This creates an empty model to be defined interactively."
   ]
  },
  {
   "cell_type": "code",
   "execution_count": 3,
   "metadata": {
    "collapsed": false
   },
   "outputs": [
    {
     "data": {
      "text/plain": [
       "<Model '_interactive_' (monomers: 0, rules: 0, parameters: 0, expressions: 0, compartments: 0) at 0x1069da910>"
      ]
     },
     "execution_count": 3,
     "metadata": {},
     "output_type": "execute_result"
    }
   ],
   "source": [
    "Model()"
   ]
  },
  {
   "cell_type": "markdown",
   "metadata": {},
   "source": [
    "3) Create a monomer named 'enzyme' that only has one binding site, called 'binding1'."
   ]
  },
  {
   "cell_type": "code",
   "execution_count": 4,
   "metadata": {
    "collapsed": false
   },
   "outputs": [
    {
     "data": {
      "text/plain": [
       "Monomer('enzyme', ['binding1'])"
      ]
     },
     "execution_count": 4,
     "metadata": {},
     "output_type": "execute_result"
    }
   ],
   "source": [
    "Monomer('enzyme', ['binding1'])"
   ]
  },
  {
   "cell_type": "markdown",
   "metadata": {},
   "source": [
    "4) Create a monomer name 'protein' that has two sites. One site is the binding site called 'binding' (Remember: for sites that only take part in bond formation the state can be omitted), the other is the protein state site called 'state'. The protein state site can take two values: 'sub' and 'pro' (substrate and product)."
   ]
  },
  {
   "cell_type": "code",
   "execution_count": 5,
   "metadata": {
    "collapsed": false
   },
   "outputs": [
    {
     "data": {
      "text/plain": [
       "Monomer('protein', ['binding', 'state'], {'state': ['sub', 'pro']})"
      ]
     },
     "execution_count": 5,
     "metadata": {},
     "output_type": "execute_result"
    }
   ],
   "source": [
    "Monomer('protein', ['binding', 'state'], {'state': ['sub','pro']})"
   ]
  },
  {
   "cell_type": "markdown",
   "metadata": {},
   "source": [
    "5) Define a forward, reverse and catalysis parameters (kf, kr, kc) with the values 0.003, 0.001 and 0.002 respectively."
   ]
  },
  {
   "cell_type": "code",
   "execution_count": 6,
   "metadata": {
    "collapsed": false
   },
   "outputs": [
    {
     "data": {
      "text/plain": [
       "Parameter('kc', 0.002)"
      ]
     },
     "execution_count": 6,
     "metadata": {},
     "output_type": "execute_result"
    }
   ],
   "source": [
    "Parameter('kf',0.003)\n",
    "Parameter('kr',0.001)\n",
    "Parameter('kc',0.002)"
   ]
  },
  {
   "cell_type": "markdown",
   "metadata": {},
   "source": [
    "6) Define a binding rule where the unbound enzyme binds the protein in the substrate state."
   ]
  },
  {
   "cell_type": "code",
   "execution_count": 7,
   "metadata": {
    "collapsed": false
   },
   "outputs": [
    {
     "data": {
      "text/plain": [
       "Rule('binding', enzyme(binding1=None) + protein(binding=None, state='sub') <> enzyme(binding1=1) % protein(binding=1, state='sub'), kf, kr)"
      ]
     },
     "execution_count": 7,
     "metadata": {},
     "output_type": "execute_result"
    }
   ],
   "source": [
    "Rule('binding', enzyme(binding1=None) + protein(state='sub', binding=None)\n",
    "     <> enzyme(binding1=1) % protein(state='sub', binding=1), kf, kr)"
   ]
  },
  {
   "cell_type": "markdown",
   "metadata": {},
   "source": [
    "7) Create a catalysis rule where the complex dissociates and the protein change state to product (the enzyme is left unaltered)."
   ]
  },
  {
   "cell_type": "markdown",
   "metadata": {},
   "source": [
    "    Rule('catalysis', complex >> enzyme + protein in state product, catalysis_rate)"
   ]
  },
  {
   "cell_type": "code",
   "execution_count": 8,
   "metadata": {
    "collapsed": false
   },
   "outputs": [
    {
     "data": {
      "text/plain": [
       "Rule('dissociation', enzyme(binding1=1) % protein(binding=1, state='sub') >> enzyme(binding1=None) + protein(binding=None, state='pro'), kc)"
      ]
     },
     "execution_count": 8,
     "metadata": {},
     "output_type": "execute_result"
    }
   ],
   "source": [
    "Rule('dissociation', enzyme(binding1=1) % protein(state='sub', binding=1) \n",
    "     >> enzyme(binding1=None) + protein(state='pro', binding=None), kc)"
   ]
  },
  {
   "cell_type": "markdown",
   "metadata": {},
   "source": [
    "8) Define the initial conditions for the two proteins using the parameters."
   ]
  },
  {
   "cell_type": "code",
   "execution_count": 9,
   "metadata": {
    "collapsed": false
   },
   "outputs": [],
   "source": [
    "Parameter('enzyme_0', 100)\n",
    "Parameter('protein_0', 50)\n",
    "Initial(enzyme(binding1=None), enzyme_0 )\n",
    "Initial(protein(binding=None, state='sub') , protein_0)"
   ]
  },
  {
   "cell_type": "markdown",
   "metadata": {},
   "source": [
    "9) Define the observables: total enzyme, product and the complex"
   ]
  },
  {
   "cell_type": "code",
   "execution_count": 10,
   "metadata": {
    "collapsed": false
   },
   "outputs": [
    {
     "data": {
      "text/plain": [
       "Observable('complex', enzyme(binding1=1) % protein(binding=1, state='sub'))"
      ]
     },
     "execution_count": 10,
     "metadata": {},
     "output_type": "execute_result"
    }
   ],
   "source": [
    "Observable('e_total', enzyme())\n",
    "Observable('e_free', enzyme(binding1=None))\n",
    "Observable('substrate', protein(binding=None, state='sub'))\n",
    "Observable('product', protein(binding=None, state='pro'))\n",
    "Observable('complex', enzyme(binding1=1) % \n",
    "           protein(binding=1, state='sub'))"
   ]
  },
  {
   "cell_type": "markdown",
   "metadata": {},
   "source": [
    "Finally, we run a simulation like so. Note the first line "
   ]
  },
  {
   "cell_type": "code",
   "execution_count": 11,
   "metadata": {
    "collapsed": false
   },
   "outputs": [
    {
     "name": "stdout",
     "output_type": "stream",
     "text": [
      "#### ['clang', '-fno-strict-aliasing', '-fno-common', '-dynamic', '-g', '-O2', '-DNDEBUG', '-g', '-fwrapv', '-O3', '-Wall', '-Wstrict-prototypes'] #######\n",
      "Missing compiler_cxx fix for UnixCCompiler\n"
     ]
    },
    {
     "data": {
      "image/png": "[encoded data removed]",
      "text/plain": [
       "<matplotlib.figure.Figure at 0x106a3b390>"
      ]
     },
     "metadata": {},
     "output_type": "display_data"
    }
   ],
   "source": [
    "%matplotlib inline\n",
    "from pysb.integrate import odesolve\n",
    "import matplotlib.pyplot as plt\n",
    "import numpy as np\n",
    "\n",
    "tspan = np.linspace(0, 100, 100)\n",
    "y = odesolve(model, tspan)\n",
    "\n",
    "plt.plot(tspan, y['substrate'], label=\"substrate\")\n",
    "plt.plot(tspan, y['e_total'], label=\"e_total\")\n",
    "plt.plot(tspan, y['e_free'], label=\"e_free\")\n",
    "plt.plot(tspan, y['product'], label=\"product\")\n",
    "plt.plot(tspan, y['complex'], label=\"complex\")\n",
    "plt.xlabel('time')\n",
    "plt.ylabel('population')\n",
    "plt.ylim(0,110)\n",
    "plt.legend(loc=0)\n",
    "plt.show()\n"
   ]
  }
 ],
 "metadata": {
  "kernelspec": {
   "display_name": "Python 2",
   "language": "python",
   "name": "python2"
  },
  "language_info": {
   "codemirror_mode": {
    "name": "ipython",
    "version": 2
   },
   "file_extension": ".py",
   "mimetype": "text/x-python",
   "name": "python",
   "nbconvert_exporter": "python",
   "pygments_lexer": "ipython2",
   "version": "2.7.11"
  }
 },
 "nbformat": 4,
 "nbformat_minor": 0
}
