{
 "cells": [
  {
   "cell_type": "raw",
   "metadata": {
    "collapsed": false
   },
   "source": [
    "from IPython.display import Image\n",
    "Image(filename='F1.large.jpg')\n"
   ]
  },
  {
   "cell_type": "code",
   "execution_count": 1,
   "metadata": {
    "collapsed": false
   },
   "outputs": [
    {
     "data": {
      "text/plain": [
       "Observable('ppERK', ERK(t185='p', y187='p'))"
      ]
     },
     "execution_count": 1,
     "metadata": {},
     "output_type": "execute_result"
    }
   ],
   "source": [
    "\"\"\"Adapted from a portion of the model published in:\n",
    "\n",
    "Input-output behavior of ErbB signaling pathways as revealed by a mass action\n",
    "model trained against dynamic data. William W Chen, Birgit Schoeberl, Paul J\n",
    "Jasper, Mario Niepel, Ulrik B Nielsen, Douglas A Lauffenburger & Peter K\n",
    "Sorger. Mol Syst Biol. 2009;5:239. Epub 2009 Jan 20. doi:10.1038/msb.2008.74\n",
    "\n",
    "http://www.nature.com/msb/journal/v5/n1/full/msb200874.html\n",
    "\n",
    "Implemented by: Jeremy Muhlich\n",
    "\"\"\"\n",
    "\n",
    "from pysb import *\n",
    "from pysb.macros import catalyze_state\n",
    "\n",
    "Model()\n",
    "\n",
    "Monomer('Ras', ['k'])\n",
    "Monomer('Raf', ['s', 'k'], {'s': ['u', 'p']})\n",
    "Monomer('MEK', ['s218', 's222', 'k'], {'s218': ['u', 'p'], 's222': ['u', 'p']})\n",
    "Monomer('ERK', ['t185', 'y187'], {'t185': ['u', 'p'], 'y187': ['u', 'p']})\n",
    "Monomer('PP2A', ['ppt'])\n",
    "Monomer('MKP', ['ppt'])\n",
    "\n",
    "\n",
    "# Use generic rates for forward/reverse binding and kinase/phosphatase catalysis\n",
    "kf_bind = 1e-5\n",
    "kr_bind = 1e-1\n",
    "kcat_phos = 1e-1\n",
    "kcat_dephos = 3e-3\n",
    "\n",
    "# Build handy rate \"sets\"\n",
    "klist_bind = [kf_bind, kr_bind]\n",
    "klist_phos = klist_bind + [kcat_phos]\n",
    "klist_dephos = klist_bind + [kcat_dephos]\n",
    "\n",
    "def mapk_single(kinase, pptase, substrate, site):\n",
    "    \"\"\"Kinase phos/dephosphorylation.\"\"\"\n",
    "    ppt_substrate = substrate()\n",
    "    if 'k' in ppt_substrate.monomer.sites:\n",
    "        # Ensure substrates which are themselves kinases don't get\n",
    "        # dephosphorylated while they are bound to *their* substrate.\n",
    "        ppt_substrate = ppt_substrate(k=None)\n",
    "    components = catalyze_state(kinase, 'k',\n",
    "                                substrate, site, site, 'u', 'p',\n",
    "                                klist_phos)\n",
    "    components |= catalyze_state(pptase, 'ppt',\n",
    "                                 ppt_substrate, site, site, 'p', 'u',\n",
    "                                 klist_dephos)\n",
    "    return components\n",
    "\n",
    "def mapk_double(kinase, pptase, substrate, site1, site2):\n",
    "    \"\"\"Distributive + ordered double kinase phos/dephosphorylation.\"\"\"\n",
    "    components = mapk_single(kinase, pptase, substrate({site2: 'u'}), site1)\n",
    "    components |= mapk_single(kinase, pptase, substrate({site1: 'p'}), site2)\n",
    "    return components\n",
    "\n",
    "# Ras-Raf-MEK-ERK kinase cascade\n",
    "mapk_single(Ras, PP2A, Raf, 's')\n",
    "mapk_double(Raf(s='p'), PP2A, MEK, 's218', 's222')\n",
    "mapk_double(MEK(s218='p', s222='p'), MKP, ERK, 't185', 'y187')\n",
    "\n",
    "Initial(Ras(k=None), Parameter('Ras_0', 6e4))\n",
    "Initial(Raf(s='u', k=None), Parameter('Raf_0', 7e4))\n",
    "Initial(MEK(s218='u', s222='u', k=None), Parameter('MEK_0', 3e6))\n",
    "Initial(ERK(t185='u', y187='u'), Parameter('ERK_0', 7e5))\n",
    "Initial(PP2A(ppt=None), Parameter('PP2A_0', 2e5))\n",
    "Initial(MKP(ppt=None), Parameter('MKP_0', 1.7e4))\n",
    "\n",
    "Observable('ppMEK', MEK(s218='p', s222='p'))\n",
    "Observable('ppERK', ERK(t185='p', y187='p'))\n",
    "\n",
    "\n",
    "\n"
   ]
  },
  {
   "cell_type": "markdown",
   "metadata": {},
   "source": [
    "Simulation"
   ]
  },
  {
   "cell_type": "code",
   "execution_count": 2,
   "metadata": {
    "collapsed": false
   },
   "outputs": [
    {
     "data": {
      "image/png": "[encoded data removed]",
      "text/plain": [
       "<matplotlib.figure.Figure at 0x7fa1816e8810>"
      ]
     },
     "metadata": {},
     "output_type": "display_data"
    }
   ],
   "source": [
    "%matplotlib inline\n",
    "from pysb.integrate import odesolve\n",
    "from numpy import *\n",
    "import matplotlib.pyplot as plt\n",
    "\n",
    "t = linspace(0, 100, 10001)\n",
    "x = odesolve(model, t)\n",
    "ref = x\n",
    "\n",
    "plt.plot(t, x['ppMEK'], lw=2, label='ppMEK')\n",
    "plt.plot(t, x['ppERK'], lw=2, label='ppERK')\n",
    "\n",
    "plt.legend(loc=0)\n",
    "plt.xlabel('time')\n",
    "plt.ylabel('population')\n",
    "\n",
    "plt.show()"
   ]
  }
 ],
 "metadata": {
  "kernelspec": {
   "display_name": "Python 2",
   "language": "python",
   "name": "python2"
  },
  "language_info": {
   "codemirror_mode": {
    "name": "ipython",
    "version": 2
   },
   "file_extension": ".py",
   "mimetype": "text/x-python",
   "name": "python",
   "nbconvert_exporter": "python",
   "pygments_lexer": "ipython2",
   "version": "2.7.11"
  }
 },
 "nbformat": 4,
 "nbformat_minor": 0
}
