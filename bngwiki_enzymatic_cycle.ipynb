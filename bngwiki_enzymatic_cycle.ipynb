{
 "cells": [
  {
   "cell_type": "markdown",
   "metadata": {},
   "source": [
    "# BNG Enzymatic Cycle Model\n",
    "Translation of the BioNetGen example \"Enzymatic Cycle\" from the BNG wiki.\n",
    "\n",
    "http://bionetgen.org/index.php/Enzymatic_Cycle\n",
    "\n",
    "This is the Michaelis-Menten implementation shown on the above webpage. I chose\n",
    "this one simply because it exercises more PySB features than the basic\n",
    "implementation."
   ]
  },
  {
   "cell_type": "code",
   "execution_count": 2,
   "metadata": {
    "collapsed": false
   },
   "outputs": [
    {
     "data": {
      "text/plain": [
       "Rule('s5_s2_cat_E4', S(c='c5') + E4() >> S(c='c2') + E4(), s5_s2_rate)"
      ]
     },
     "execution_count": 2,
     "metadata": {},
     "output_type": "execute_result"
    }
   ],
   "source": [
    "from pysb import *\n",
    "\n",
    "Model()\n",
    "\n",
    "\n",
    "# kinetic parameters\n",
    "Parameter('k1', 1.0)    # kf   - units: /time/molecule\n",
    "Parameter('k2', 1.0)    # kr   - units: /time\n",
    "Parameter('k3', 0.1)    # kcat - units: /time\n",
    "Parameter('k4', 1.0)    # kf   - units: /time/molecule\n",
    "Parameter('k5', 1.0)    # kr   - units: /time\n",
    "Parameter('k6', 0.1)    # kcat - units: /time\n",
    "# total enzyme and substrate (units: molecules)\n",
    "Parameter('E1_tot', 1)\n",
    "Parameter('E4_tot', 1)\n",
    "Parameter('S2_tot', 50)\n",
    "Parameter('S5_tot', 50)\n",
    "# derived parameters (units: molecules)\n",
    "Expression('Km2', (k2 + k3) / k1)\n",
    "Expression('Km5', (k5 + k6) / k4)\n",
    "# calculate initial free S2 and S5, assuming quasi-equillibrium enzyme binding\n",
    "Expression('S2_free0',\n",
    "           (S2_tot + E1_tot - Km2) / 2 +\n",
    "           ((S2_tot + E1_tot - Km2) ** 2 + 4 * Km2) ** 0.5 / 2)\n",
    "Expression('S5_free0',\n",
    "           (S5_tot + E4_tot - Km5) / 2 +\n",
    "           ((S5_tot + E4_tot - Km5) ** 2 + 4 * Km5) ** 0.5 / 2)\n",
    "\n",
    "\n",
    "Monomer('S', ['c'], {'c': ['c2', 'c5']})\n",
    "Monomer('E1')\n",
    "Monomer('E4')\n",
    "\n",
    "\n",
    "Initial(E1(), E1_tot)           # S1+S3 (total enzyme A)\n",
    "Initial(S(c='c2'), S2_free0)    # S2 (free substrate in config 2)\n",
    "Initial(E4(), E4_tot)           # S4+S6 (total enzyme B)\n",
    "Initial(S(c='c5'), S5_free0)    # S5 (free substrate in config 5)\n",
    "\n",
    "\n",
    "# free substrate (required for functional ratelaw)\n",
    "Observable('S2_free', S(c='c2'))\n",
    "Observable('S5_free', S(c='c5'))\n",
    "\n",
    "\n",
    "# s2 -> s5, catalyzed by E1\n",
    "Expression('s2_s5_rate', k3 / (Km2 + S2_free))\n",
    "Rule('s2_s5_cat_E1', S(c='c2') + E1() >> S(c='c5') + E1(), s2_s5_rate)\n",
    "# s5 -> s2, catalyzed by E4\n",
    "Expression('s5_s2_rate', k6 / (Km5 + S5_free))\n",
    "Rule('s5_s2_cat_E4', S(c='c5') + E4() >> S(c='c2') + E4(), s5_s2_rate)"
   ]
  },
  {
   "cell_type": "code",
   "execution_count": null,
   "metadata": {
    "collapsed": true
   },
   "outputs": [],
   "source": []
  }
 ],
 "metadata": {
  "kernelspec": {
   "display_name": "Python 2",
   "language": "python",
   "name": "python2"
  },
  "language_info": {
   "codemirror_mode": {
    "name": "ipython",
    "version": 2
   },
   "file_extension": ".py",
   "mimetype": "text/x-python",
   "name": "python",
   "nbconvert_exporter": "python",
   "pygments_lexer": "ipython2",
   "version": "2.7.6"
  }
 },
 "nbformat": 4,
 "nbformat_minor": 0
}
