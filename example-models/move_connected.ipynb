{
 "cells": [
  {
   "cell_type": "markdown",
   "metadata": {},
   "source": [
    "# Demonstration of the move_connected keyword for Rules"
   ]
  },
  {
   "cell_type": "code",
   "execution_count": 1,
   "metadata": {
    "collapsed": true
   },
   "outputs": [],
   "source": [
    "from pysb import *\n",
    "\n",
    "Model()\n",
    "\n",
    "Monomer('A', ['b'])\n",
    "Monomer('B', ['a'])\n",
    "\n",
    "# One main 3d compartment and two 2d membranes inside it\n",
    "Parameter('Vmain', 1)\n",
    "Parameter('Vx', 1)\n",
    "Parameter('Vy', 1)\n",
    "Compartment('Main', None, 3, Vmain)\n",
    "Compartment('X', Main, 2, Vx)\n",
    "Compartment('Y', Main, 2, Vy)\n",
    "\n",
    "# A and B, both embedded in membrane X, bind reversibly\n",
    "Parameter('Kab_f', 1)\n",
    "Parameter('Kab_r', 1)\n",
    "Rule('Ax_bind_Bx', A(b=None) ** X + B(a=None) ** X <> A(b=1) ** X % B(a=1) ** X,\n",
    "     Kab_f, Kab_r)\n",
    "\n",
    "# The A:B complex is transported back and forth from X to Y\n",
    "Parameter('Ktrans_f', 1)\n",
    "Parameter('Ktrans_r', 1)\n",
    "# move_connected is required or B will be \"left behind\" and BNG will complain\n",
    "# (change move_connected to False and run pysb.tools.export_bng_net on this file\n",
    "# and watch for the WARNING line in the output log)\n",
    "Rule('ABx_trans_y', A(b=ANY) ** X <> A(b=ANY) ** Y,\n",
    "     Ktrans_f, Ktrans_r, move_connected=True)\n",
    "\n",
    "Parameter('ABx_0', 1)\n",
    "Initial(A(b=1)**X % B(a=1)**X, ABx_0)"
   ]
  },
  {
   "cell_type": "code",
   "execution_count": null,
   "metadata": {
    "collapsed": true
   },
   "outputs": [],
   "source": []
  }
 ],
 "metadata": {
  "kernelspec": {
   "display_name": "Python 2",
   "language": "python",
   "name": "python2"
  },
  "language_info": {
   "codemirror_mode": {
    "name": "ipython",
    "version": 2
   },
   "file_extension": ".py",
   "mimetype": "text/x-python",
   "name": "python",
   "nbconvert_exporter": "python",
   "pygments_lexer": "ipython2",
   "version": "2.7.6"
  }
 },
 "nbformat": 4,
 "nbformat_minor": 0
}
