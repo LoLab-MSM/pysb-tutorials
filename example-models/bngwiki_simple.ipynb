{
 "cells": [
  {
   "cell_type": "markdown",
   "metadata": {},
   "source": [
    "# BNG Simple Model\n",
    "Translation of the BioNetGen example \"Simple\" from the BNG wiki.\n",
    "\n",
    "http://bionetgen.org/index.php/Simple"
   ]
  },
  {
   "cell_type": "code",
   "execution_count": 1,
   "metadata": {
    "collapsed": false
   },
   "outputs": [
    {
     "data": {
      "text/plain": [
       "Observable('Lbound', EGF(R=<class 'pysb.core.ANY'>))"
      ]
     },
     "execution_count": 1,
     "metadata": {},
     "output_type": "execute_result"
    }
   ],
   "source": [
    "from pysb import *\n",
    "\n",
    "Model()\n",
    "\n",
    "\n",
    "# Physical and geometric constants\n",
    "Parameter('NA', 6.0e23)      # Avogadro's num\n",
    "Parameter('f', 0.01)         # scaling factor\n",
    "Expression('Vo', f * 1e-10)  # L\n",
    "Expression('V', f * 3e-12)   # L\n",
    "\n",
    "# Initial concentrations\n",
    "Parameter('EGF_conc', 2e-9)             # nM\n",
    "Expression('EGF0', EGF_conc * NA * Vo)  # nM\n",
    "Expression('EGFR0', f * 1.8e5)          # copy per cell\n",
    "\n",
    "# Rate constants\n",
    "Expression('kp1', 9.0e7 / (NA * Vo))  # input /M/sec\n",
    "Parameter('km1', 0.06)                # /sec\n",
    "\n",
    "\n",
    "Monomer('EGF', ['R'])\n",
    "Monomer('EGFR', ['L', 'CR1', 'Y1068'], {'Y1068': ['U', 'P']})\n",
    "\n",
    "\n",
    "Initial(EGF(R=None), EGF0)\n",
    "Initial(EGFR(L=None, CR1=None, Y1068='U'), EGFR0)\n",
    "\n",
    "\n",
    "Rule('egf_binds_egfr', EGF(R=None) + EGFR(L=None) <> EGF(R=1) % EGFR(L=1), kp1, km1)\n",
    "\n",
    "\n",
    "# Species LR EGF(R!1).EGFR(L!1)\n",
    "Observable('Lbound', EGF(R=ANY))  # Molecules"
   ]
  },
  {
   "cell_type": "code",
   "execution_count": null,
   "metadata": {
    "collapsed": true
   },
   "outputs": [],
   "source": []
  }
 ],
 "metadata": {
  "kernelspec": {
   "display_name": "Python 2",
   "language": "python",
   "name": "python2"
  },
  "language_info": {
   "codemirror_mode": {
    "name": "ipython",
    "version": 2
   },
   "file_extension": ".py",
   "mimetype": "text/x-python",
   "name": "python",
   "nbconvert_exporter": "python",
   "pygments_lexer": "ipython2",
   "version": "2.7.6"
  }
 },
 "nbformat": 4,
 "nbformat_minor": 0
}
