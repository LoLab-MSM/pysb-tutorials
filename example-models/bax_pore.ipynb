{
 "cells": [
  {
   "cell_type": "markdown",
   "metadata": {},
   "source": [
    "# Bax Pore Assembly\n",
    "A version of BAX pore assembly where the subunits dimerize and then\n",
    "tetramerize instead of assembling sequentially (contrast with\n",
    "bax_pore_sequential.py). Inhibition of pore formation by Mcl-1 is also\n",
    "implemented."
   ]
  },
  {
   "cell_type": "code",
   "execution_count": 2,
   "metadata": {
    "collapsed": false
   },
   "outputs": [
    {
     "data": {
      "text/plain": [
       "Observable('BAX4_inh', BAX(t1=1, t2=3, inh=<class 'pysb.core.ANY'>) % BAX(t1=4, t2=1) % BAX(t1=2, t2=4) % BAX(t1=3, t2=2))"
      ]
     },
     "execution_count": 2,
     "metadata": {},
     "output_type": "execute_result"
    }
   ],
   "source": [
    "from pysb import *\n",
    "\n",
    "Model()\n",
    "\n",
    "# Each BAX-BAX bond must always involve a t1 site on one monomer and a\n",
    "# t2 site on the other.\n",
    "Monomer('BAX', ['t1', 't2', 'inh'])\n",
    "Annotation(BAX, 'http://identifiers.org/uniprot/Q07812')\n",
    "Monomer('MCL1', ['b'])\n",
    "Annotation(MCL1, 'http://identifiers.org/uniprot/Q07820')\n",
    "\n",
    "# Two lone monomers form a dimer.\n",
    "Parameter('kdimf', 1e-6)\n",
    "Parameter('kdimr', 1e-7)\n",
    "Rule('bax_dim',\n",
    "     BAX(t1=None, t2=None) + BAX(t1=None, t2=None) |\n",
    "     BAX(t1=1, t2=None) % BAX(t1=None, t2=1),\n",
    "     kdimf, kdimr)\n",
    "\n",
    "# Two lone dimers form a tetramer, with a higher rate than the dimerization.\n",
    "Parameter('ktetf', 1e-3)\n",
    "Parameter('ktetr', 1e-4)\n",
    "Rule('bax_tet',\n",
    "     BAX(t1=1, t2=None) % BAX(t1=None, t2=1) + BAX(t1=2, t2=None) % BAX(t1=None, t2=2) |\n",
    "     BAX(t1=1, t2=3) % BAX(t1=4, t2=1) % BAX(t1=2, t2=4) % BAX(t1=3, t2=2),\n",
    "     ktetf, ktetr)\n",
    "\n",
    "# An inhibitory protein can bind to a BAX subunit at any time.\n",
    "Parameter('kbaxmcl1f', 1e-5)\n",
    "Parameter('kbaxmcl1r', 1e-6)\n",
    "Rule('bax_inh_mcl1',\n",
    "     BAX(inh=None) + MCL1(b=None) |\n",
    "     BAX(inh=1)    % MCL1(b=1),\n",
    "     kbaxmcl1f, kbaxmcl1r)\n",
    "\n",
    "# Initial conditions\n",
    "Parameter('BAX_0', 8e4)\n",
    "Initial(BAX(t1=None, t2=None, inh=None), BAX_0)\n",
    "Parameter('MCL1_0', 2e4)\n",
    "Initial(MCL1(b=None), MCL1_0)\n",
    "for p in BAX_0, MCL1_0:\n",
    "    Annotation(p, 'http://identifiers.org/doi/10.1371/journal.pcbi.1002482',\n",
    "               'isDescribedBy')\n",
    "\n",
    "# We must fully specify all four BAX-BAX bonds, otherwise the pattern\n",
    "# is too loose, match a given species multiple times (beyond the\n",
    "# factor of four expected due to the rotational symmetry of the\n",
    "# tetramer), resulting in erroneously high values.\n",
    "Observable('BAX4', BAX(t1=1, t2=3) % BAX(t1=4, t2=1) % BAX(t1=2, t2=4) % BAX(t1=3, t2=2))\n",
    "# Same all-bonds requirement here.  However since the BAX tetramer is\n",
    "# considered inhibited when even one subunit has an inhibitor bound,\n",
    "# we only need to explicitly write inh=ANY on one of the monomer\n",
    "# patterns.\n",
    "Observable('BAX4_inh', BAX(inh=ANY, t1=1, t2=3) % BAX(t1=4, t2=1) % BAX(t1=2, t2=4) % BAX(t1=3, t2=2))"
   ]
  },
  {
   "cell_type": "markdown",
   "metadata": {},
   "source": [
    "## Simulation"
   ]
  },
  {
   "cell_type": "code",
   "execution_count": 5,
   "metadata": {
    "collapsed": false
   },
   "outputs": [
    {
     "data": {
      "image/png": "[encoded data removed]",
      "text/plain": [
       "<matplotlib.figure.Figure at 0x7fbd84a09710>"
      ]
     },
     "metadata": {},
     "output_type": "display_data"
    }
   ],
   "source": [
    "%matplotlib inline\n",
    "from pylab import *\n",
    "from pysb.integrate import odesolve\n",
    "\n",
    "t = linspace(0, 100)\n",
    "x = odesolve(model, t)\n",
    "\n",
    "p = plot(t, c_[x['BAX4'], x['BAX4_inh']])\n",
    "figlegend(p, ['BAX4', 'BAX4_inh'], 'upper left')\n",
    "show()"
   ]
  }
 ],
 "metadata": {
  "kernelspec": {
   "display_name": "Python 2",
   "language": "python",
   "name": "python2"
  },
  "language_info": {
   "codemirror_mode": {
    "name": "ipython",
    "version": 2
   },
   "file_extension": ".py",
   "mimetype": "text/x-python",
   "name": "python",
   "nbconvert_exporter": "python",
   "pygments_lexer": "ipython2",
   "version": "2.7.6"
  }
 },
 "nbformat": 4,
 "nbformat_minor": 0
}
