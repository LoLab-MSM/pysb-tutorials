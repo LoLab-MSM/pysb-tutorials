{
 "cells": [
  {
   "cell_type": "markdown",
   "metadata": {
    "collapsed": true
   },
   "source": [
    "# Robertson's Example\n",
    "A simple three-species chemical kinetics system known as \"Robertson's\n",
    "example\", as presented in:\n",
    "\n",
    "H. H. Robertson, The solution of a set of reaction rate equations, in Numerical\n",
    "Analysis: An Introduction, J. Walsh, ed., Academic Press, 1966, pp. 178-182."
   ]
  },
  {
   "cell_type": "markdown",
   "metadata": {},
   "source": [
    "Here you will be taking the steps to building your PySB model. \n",
    "First you will begin by importing (from pysb import *) make sure to write each line of code in a new In[]: line. Use shift+enter to run each cell "
   ]
  },
  {
   "cell_type": "code",
   "execution_count": null,
   "metadata": {
    "collapsed": true
   },
   "outputs": [],
   "source": []
  },
  {
   "cell_type": "markdown",
   "metadata": {},
   "source": [
    "from pysb import * you will begin by importing all of pysb by using \"*\". \n",
    "Next, you will create your model by writing \"Model()\" below your import statement.\n"
   ]
  },
  {
   "cell_type": "code",
   "execution_count": null,
   "metadata": {
    "collapsed": true
   },
   "outputs": [],
   "source": []
  },
  {
   "cell_type": "markdown",
   "metadata": {},
   "source": [
    "This model has 3 monomers with no states or sites. Write your monomers for A, B, and C below: "
   ]
  },
  {
   "cell_type": "code",
   "execution_count": null,
   "metadata": {
    "collapsed": true
   },
   "outputs": [],
   "source": []
  },
  {
   "cell_type": "markdown",
   "metadata": {},
   "source": [
    "You will be creating 3 rules. Rule 1  'A_to_B' will be the reaction A -> B with a forward rate parameter 'k1' of 0.04. "
   ]
  },
  {
   "cell_type": "code",
   "execution_count": null,
   "metadata": {
    "collapsed": true
   },
   "outputs": [],
   "source": []
  },
  {
   "cell_type": "markdown",
   "metadata": {},
   "source": [
    "Rule 2  'BB_to_BC' will be the reaction 2B -> B + C with a forward rate parameter 'k2' of 3.0e7. "
   ]
  },
  {
   "cell_type": "code",
   "execution_count": null,
   "metadata": {
    "collapsed": true
   },
   "outputs": [],
   "source": []
  },
  {
   "cell_type": "markdown",
   "metadata": {},
   "source": [
    "Rule 3  ''BC_to_AC' will be the reaction B + C -> A + C  with a forward rate parameter 'k3' of1.0e4."
   ]
  },
  {
   "cell_type": "code",
   "execution_count": null,
   "metadata": {
    "collapsed": true
   },
   "outputs": [],
   "source": []
  },
  {
   "cell_type": "markdown",
   "metadata": {},
   "source": [
    "Next you will be creating the intial conditions for\n",
    " A - A_0, 1.0, \n",
    "B - B_0, 0, and \n",
    "C - C_0, 0."
   ]
  },
  {
   "cell_type": "code",
   "execution_count": null,
   "metadata": {
    "collapsed": true
   },
   "outputs": [],
   "source": []
  },
  {
   "cell_type": "markdown",
   "metadata": {},
   "source": [
    "Here, you will define the Observables\n",
    "'A_total', \n",
    "'B_total', and \n",
    "'C_total.'"
   ]
  },
  {
   "cell_type": "code",
   "execution_count": null,
   "metadata": {
    "collapsed": true
   },
   "outputs": [],
   "source": []
  },
  {
   "cell_type": "markdown",
   "metadata": {},
   "source": [
    "%matplotlib inline"
   ]
  },
  {
   "cell_type": "code",
   "execution_count": null,
   "metadata": {
    "collapsed": true
   },
   "outputs": [],
   "source": []
  },
  {
   "cell_type": "markdown",
   "metadata": {},
   "source": [
    "Last, you will simulate the model you just built using the odesolve integrator. \n",
    "\n",
    "\"from pylab import *\", and \"from pysb.integrate import odesolve\"\n",
    "\n",
    "\n",
    "\n"
   ]
  },
  {
   "cell_type": "code",
   "execution_count": null,
   "metadata": {
    "collapsed": true
   },
   "outputs": [],
   "source": []
  },
  {
   "cell_type": "markdown",
   "metadata": {},
   "source": [
    "You will integrate from t0=0 to tf=40 using \"t = linspace(t0,tf)'"
   ]
  },
  {
   "cell_type": "code",
   "execution_count": null,
   "metadata": {
    "collapsed": true
   },
   "outputs": [],
   "source": []
  },
  {
   "cell_type": "markdown",
   "metadata": {},
   "source": [
    "# Simulate the model\n",
    "\"y = odesolve(model, t, rtol=1e-4, atol=[1e-8, 1e-14, 1e-6])\""
   ]
  },
  {
   "cell_type": "code",
   "execution_count": null,
   "metadata": {
    "collapsed": true
   },
   "outputs": [],
   "source": []
  },
  {
   "cell_type": "markdown",
   "metadata": {},
   "source": [
    "Gather the observables of interest into a matrix\n",
    "\"yobs = array([y[obs] for obs in ('A_total', 'B_total', 'C_total')]).T\""
   ]
  },
  {
   "cell_type": "code",
   "execution_count": null,
   "metadata": {
    "collapsed": true
   },
   "outputs": [],
   "source": []
  },
  {
   "cell_type": "markdown",
   "metadata": {},
   "source": [
    "Plot normalized trajectories below \n",
    "\"plot(t, yobs / yobs.max(0))\n",
    "legend(['y1', 'y2', 'y3'], loc='lower right')\n",
    "show()\""
   ]
  },
  {
   "cell_type": "code",
   "execution_count": null,
   "metadata": {
    "collapsed": true
   },
   "outputs": [],
   "source": []
  }
 ],
 "metadata": {
  "kernelspec": {
   "display_name": "Python 2",
   "language": "python",
   "name": "python2"
  },
  "language_info": {
   "codemirror_mode": {
    "name": "ipython",
    "version": 2
   },
   "file_extension": ".py",
   "mimetype": "text/x-python",
   "name": "python",
   "nbconvert_exporter": "python",
   "pygments_lexer": "ipython2",
   "version": "2.7.10"
  }
 },
 "nbformat": 4,
 "nbformat_minor": 0
}
