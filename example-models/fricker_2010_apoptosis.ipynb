{
 "cells": [
  {
   "cell_type": "markdown",
   "metadata": {},
   "source": [
    "# Fricker Apoptosis Model\n",
    "An implementation of the model from:\n",
    "\n",
    "Model-based dissection of CD95 signaling dynamics reveals both a pro- and\n",
    "antiapoptotic role of c-FLIPL.  Fricker N, Beaudouin J, Richter P, Eils R,\n",
    "Krammer PH, Lavrik IN. J Cell Biol. 2010 Aug 9;190(3):377-89.\n",
    "doi:10.1083/jcb.201002060\n",
    "\n",
    "http://jcb.rupress.org/content/190/3/377.long\n",
    "\n",
    "Implemented by: Jeremie Roux, Will Chen, Jeremy Muhlich"
   ]
  },
  {
   "cell_type": "code",
   "execution_count": 3,
   "metadata": {
    "collapsed": false
   },
   "outputs": [
    {
     "name": "stderr",
     "output_type": "stream",
     "text": [
      "/usr/local/lib/python2.7/dist-packages/IPython/kernel/__main__.py:3: ModelExistsWarning: Redefining model! (You can probably ignore this if you are running code interactively)\n",
      "  app.launch_new_instance()\n"
     ]
    }
   ],
   "source": [
    "from pysb import *\n",
    "\n",
    "Model()\n",
    "\n",
    "# Non-zero initial conditions (in molecules per cell):\n",
    "Parameter('L_0'        , 1500e3); # baseline level of ligand for most experiments (corresponding to 50 ng/ml SuperKiller TRAIL)\n",
    "Parameter('pR_0'       , 170.999e3);  # TRAIL receptor (for experiments not involving siRNA)\n",
    "Parameter('FADD_0'     , 133.165e3);\n",
    "Parameter('flipL_0'    , 0.49995e3);  # FlipL 1X = 0.49995e3\n",
    "Parameter('flipS_0'    , 0.422e3);  # Flip\n",
    "Parameter('pC8_0'      , 200.168e3);  # procaspase-8 (pro-C8)\n",
    "Parameter('Bid_0'       , 100e3);  # Bid\n",
    "\n",
    "Monomer('L', ['b'])\n",
    "Monomer('pR', ['b', 'rf'])\n",
    "Monomer('FADD', ['rf', 'fe'])\n",
    "Monomer('flipL', ['b', 'fe', 'ee', 'D384'],\n",
    "        {'D384': ['U','C']}\n",
    "        )\n",
    "Monomer('flipS', ['b', 'fe', 'ee'])\n",
    "Monomer('pC8', ['fe', 'ee', 'D384', 'D400'],\n",
    "        {'D384': ['U','C'],\n",
    "\t 'D400': ['U','C']}\n",
    "        )\n",
    "Monomer('Bid') #called Apoptosis substrat in Lavrik's model\n",
    "Monomer('tBid')\n",
    "\n",
    "flip_monomers = (flipL, flipS);\n",
    "\n",
    "# L + R <--> L:R\n",
    "Parameter('kf1', 70.98e-03) #70.98e-03\n",
    "Parameter('kr1', 0)\n",
    "Rule('R_L_Binding', L (b=None) + pR (b=None, rf=None) >> L (b=1) % pR (b=1, rf=None), kf1)\n",
    "\n",
    "# FADD binds\n",
    "Parameter('kf29', 84.4211e-03) #84.4211e-03\n",
    "Parameter('kr29', 0)\n",
    "Rule('RL_FADD_Binding', pR (b=ANY, rf=None) + FADD (rf=None, fe=None) >> pR (b=ANY, rf=2) % FADD (rf=2, fe=None), kf29,kr29)\n",
    "\n",
    "#C8 binds to L:R:FADD\n",
    "Parameter('kf30', 3.19838e-03) #3.19838e-03\n",
    "Parameter('kr30', 0.1) #0.1\n",
    "Rule('RLFADD_C8_Binding', FADD (rf=ANY, fe=None) + pC8 (fe=None, ee=None, D384='U') <> FADD (rf=ANY, fe=1) % pC8 (fe=1, ee=None, D384='U'), kf30, kr30)\n",
    "\n",
    "#FLIP(variants) bind to L:R:FADD\n",
    "Parameter('kf31', 69.3329e-03)\n",
    "Parameter('kr31', 0.0)\n",
    "Parameter('kf32', 69.4022e-03)\n",
    "Parameter('kr32', 0.08)\n",
    "# FIXME: this pattern requires a dummy kr31 which is ultimately ignored\n",
    "for flip_m, kf, kr, reversible in (zip(flip_monomers, (kf31,kf32), (kr31,kr32), (False,True))):\n",
    "    rule = Rule('RLFADD_%s_Binding' % flip_m.name, FADD (rf=ANY, fe=None) + flip_m (fe=None, ee=None) <> FADD (rf=ANY, fe=1) % flip_m (fe=1, ee=None), kf, kr)\n",
    "    if reversible is False:\n",
    "        rule.is_reversible = False;\n",
    "        rule.rate_reverse = None;\n",
    "\n",
    "pC8_HomoD   = pC8 (fe=ANY, ee=1, D384='U') % pC8   (fe=ANY, ee=1, D384='U')\n",
    "pC8_HeteroD = pC8 (fe=ANY, ee=1, D384='U') % flipL (fe=ANY, ee=1, D384='U')\n",
    "p43_HomoD   = pC8 (fe=ANY, ee=1, D384='C') % pC8   (fe=ANY, ee=1, D384='C')\n",
    "p43_HeteroD = pC8 (fe=ANY, ee=1, D384='C') % flipL (fe=ANY, ee=1, D384='C')\n",
    "\n",
    "#L:R:FADD:C8 dimerizes\n",
    "Parameter('kf33', 2.37162)\n",
    "Parameter('kr33', 0.1)\n",
    "Parameter('kc33', 1e-05)\n",
    "Rule('RLFADD_C8_C8_Binding', pC8 (fe=ANY, ee=None, D384='U') + pC8 (fe=ANY, ee=None, D384='U') <> pC8_HomoD, kf33, kr33)\n",
    "\n",
    "#L:R:FADD:C8 L:R:FADD:FLIP(variants) dimerizes\n",
    "Parameter('kf34', 4.83692)\n",
    "Parameter('kr34', 0)\n",
    "Parameter('kf35', 2.88545)\n",
    "Parameter('kr35', 1)\n",
    "# FIXME: this pattern requires a dummy kr31 which is ultimately ignored\n",
    "for flip_m, kf, kr, reversible in (zip(flip_monomers, (kf34,kf35), (kr34,kr35), (False,True))):\n",
    "    rule = Rule('RLFADD_C8_%s_Binding' % flip_m.name, pC8 (fe=ANY, ee=None, D384='U') + flip_m (fe=ANY, ee=None) <> pC8 (fe=ANY, ee=1, D384='U') % flip_m (fe=ANY, ee=1), kf, kr)\n",
    "    if reversible is False:\n",
    "        rule.is_reversible = False;\n",
    "        rule.rate_reverse = None;\n",
    "\n",
    "Parameter('kc36', 0.223046e-3)\n",
    "#Homodimer catalyses Homodimer ?: no p18 is released. Only this \"cleaved\" p43 homoD is the product that will transform into a p18 + L:R:FADD in later reaction.\n",
    "Rule('HomoD_cat_HomoD', pC8_HomoD + pC8_HomoD >> pC8_HomoD + p43_HomoD, kc36)\n",
    "#Homodimer catalyses Heterodimer ?????\n",
    "Rule('HomoD_cat_HeteroD', pC8_HomoD + pC8_HeteroD >> pC8_HomoD + p43_HeteroD, kc36)\n",
    "\n",
    "Parameter('kc37', 0.805817e-3)\n",
    "#Heterodimer catalyses Heterodimer ?????\n",
    "Rule('HeteroD_cat_HeteroD', pC8_HeteroD + pC8_HeteroD >> pC8_HeteroD + p43_HeteroD, kc37)\n",
    "#Heterodimer catalyses Homodimer ?????\n",
    "Rule('HeteroD_cat_HomoD', pC8_HeteroD + pC8_HomoD >> pC8_HeteroD + p43_HomoD, kc37)\n",
    "\n",
    "Parameter('kc38', 1.4888e-3)\n",
    "#Cleaved Homodimer catalyses Homodimer ?????\n",
    "Rule('Cl_HomoD_cat_HomoD', p43_HomoD + pC8_HomoD >> p43_HomoD + p43_HomoD, kc38)\n",
    "#Cleaved HomoD catalyses Heterodimer ?????\n",
    "Rule('Cl_HomoD_cat_HeteroD', p43_HomoD + pC8_HeteroD >> p43_HomoD + p43_HeteroD, kc38)\n",
    "\n",
    "Parameter('kc39', 13.098e-3)\n",
    "#Cleaved HeteroD catalyses Homodimer ?????\n",
    "Rule('Cl_heteroD_cat_HomoD', p43_HeteroD + pC8_HomoD >> p43_HeteroD + p43_HomoD, kc39)\n",
    "#Cleaved HeteroD catalyses Heterodimer ?????\n",
    "Rule('Cl_heteroD_cat_HeteroD', p43_HeteroD + pC8_HeteroD >> p43_HeteroD + p43_HeteroD, kc39)\n",
    "\n",
    "#Cleaved HomoD catalyses Cleaved HomoD to p18 and release L:R:FADD\n",
    "Parameter('kc40', 0.999273e-3)\n",
    "Rule('Cl_HomoD_cat_Cl_HomoD', pC8 (fe=ANY, ee=1, D384='C', D400='U') % pC8 (fe=ANY, ee=1, D384='C', D400='U') +\n",
    "     FADD (rf=ANY, fe=2) % pC8 (fe=2, ee=3, D384='C', D400='U') % FADD (rf=ANY, fe=4) % pC8 (fe=4, ee=3, D384='C', D400='U') >>\n",
    "     pC8 (fe=ANY, ee=1, D384='C', D400='U') % pC8 (fe=ANY, ee=1, D384='C', D400='U') +\n",
    "     FADD (rf=ANY, fe=None) + FADD (rf=ANY, fe=None) + pC8 (fe=None, ee=1, D384='C',D400='C') % pC8 (fe=None, ee=1, D384='C',D400='C'), \n",
    "     kc40)\n",
    "\n",
    "#Cleaved HeteroD catalyses Cleaved HomoD to p18 and release L:R:FADD\n",
    "Parameter('kc41', 0.982109e-3)\n",
    "Rule('Cl_HeteroD_cat_Cl_HomoD', pC8 (fe=ANY, ee=1, D384='C', D400='U') % flipL (fe=ANY, ee=1, D384='C') +\n",
    "     FADD (rf=ANY, fe=2) % pC8 (fe=2, ee=3, D384='C', D400='U') % FADD (rf=ANY, fe=4) % pC8 (fe=4, ee=3, D384='C', D400='U') >>\n",
    "     pC8 (fe=ANY, ee=1, D384='C', D400='U') % flipL (fe=ANY, ee=1, D384='C') +\n",
    "     FADD (rf=ANY, fe=None) + FADD (rf=ANY, fe=None) + pC8 (fe=None, ee=1, D384='C',D400='C') % pC8 (fe=None, ee=1, D384='C',D400='C'), \n",
    "     kc41)\n",
    " \n",
    "#Cleaved HomoD cleaves Bid ?????\n",
    "Parameter('kc42', 0.0697394e-3)\n",
    "Rule('Cl_Homo_cat_Bid', pC8 (fe=ANY, ee=1, D384='C', D400='U') % pC8 (fe=ANY, ee=1, D384='C', D400='U') + Bid () >>\n",
    "     pC8 (fe=ANY, ee=1, D384='C', D400='U') % pC8 (fe=ANY, ee=1, D384='C', D400='U') + tBid (), kc42)\n",
    "\n",
    "#Cleaved HeteroD cleaves Bid ?????\n",
    "Parameter('kc43', 0.0166747e-3)\n",
    "Rule('Cl_Hetero_cat_Bid', pC8 (fe=ANY, ee=1, D384='C', D400='U') % flipL (fe=ANY, ee=1, D384='C') + Bid () >>\n",
    "     pC8 (fe=ANY, ee=1, D384='C', D400='U') % flipL (fe=ANY, ee=1, D384='C') + tBid (), kc43)\n",
    "\n",
    "#p18 cleaves Bid ?????\n",
    "Parameter('kc44', 0.0000479214e-3)\n",
    "Rule('p18_Bid_cat', pC8 (fe=None, ee=1, D384='C',D400='C') % pC8 (fe=None, ee=1, D384='C',D400='C') + Bid () >> \n",
    "\tpC8 (fe=None, ee=1, D384='C',D400='C') % pC8 (fe=None, ee=1, D384='C',D400='C') + tBid (), kc44) \n",
    "\n",
    "\n",
    "# Fig 4B\n",
    "\n",
    "Observable('p18', pC8(fe=None, ee=1, D384='C',D400='C') % pC8(fe=None, ee=1, D384='C',D400='C'))\n",
    "Observable('tBid_total', tBid() )\n",
    "\n",
    "\n",
    "\n",
    "\n",
    "# generate initial conditions from _0 parameter naming convention\n",
    "for m in model.monomers:\n",
    "    ic_param = model.parameters.get('%s_0' % m.name, None)\n",
    "    if ic_param is not None:\n",
    "        sites = {}\n",
    "        for s in m.sites:\n",
    "            if s in m.site_states:\n",
    "                sites[s] = m.site_states[s][0]\n",
    "            else:\n",
    "                sites[s] = None\n",
    "        Initial(m(sites), ic_param)"
   ]
  },
  {
   "cell_type": "markdown",
   "metadata": {},
   "source": [
    "## Model Definitions\n",
    "Some of the model definition from supplemental materials, for reference."
   ]
  },
  {
   "cell_type": "markdown",
   "metadata": {},
   "source": [
    "### Model States"
   ]
  },
  {
   "cell_type": "code",
   "execution_count": 5,
   "metadata": {
    "collapsed": true
   },
   "outputs": [],
   "source": [
    "# %% Protein amounts are given in thousand molecules per cell.\n",
    "# CD95L(0) = 1,500%% amount ligand\n",
    "# CD95R(0) = 170.999%% amount CD95\n",
    "# FADD(0) = 133.165%% amount FADD\n",
    "# C8(0) = 200.168%% amount Procaspase-8\n",
    "# FL(0) = 0.49995%% amount FLIP-Long\n",
    "# FS(0) = 0.422%% amount FLIP-Short\n",
    "# CD95RL(0) = 0%% amount of CD95-CD95L complexes\n",
    "# CD95FADD(0) = 0%% amount of CD95-FADD complexes\n",
    "# FADDC8(0) = 0%% amount Procaspase-8 bound to FADD\n",
    "# FADDFL(0) = 0%% amount c-FLIPL bound to FADD\n",
    "# FADDFS(0) = 0%% amount c-FLIPS bound to FADD\n",
    "# C8heterodimer(0) = 0%% amount Procaspase-8/c-FLIPL heterodimers\n",
    "# C8homodimer(0) = 0%% amount Procaspase-8 homodimers\n",
    "# C8FSdimer(0) =0%% amount Procaspase-8/c-FLIPS heterodimers\n",
    "# p43heterodimer(0) = 0%% amount p43/p41-Procaspase-8/p43-FLIP heterodimers\n",
    "# p43homodimer(0) = 0%% amount p43/p41-Procaspase-8 homodimers\n",
    "# p18(0)=0%% amount p18 formed\n",
    "# apoptosissubstrate(0)=100\n",
    "# cleavedsubstrate(0) = 0%% amount cleaved apoptosis substrate"
   ]
  },
  {
   "cell_type": "markdown",
   "metadata": {},
   "source": [
    "### Model Variables"
   ]
  },
  {
   "cell_type": "code",
   "execution_count": 6,
   "metadata": {
    "collapsed": true
   },
   "outputs": [],
   "source": [
    "# p18total = 2 x p18\n",
    "# p43Casp8total = 2 x p43homodimer + p43heterodimer\n",
    "# procaspase8total = C8 + FADDC8 + C8heterodimer + 2 x C8homodimer + C8FSdimer\n",
    "# c8total = p43Casp8total + procaspase8total + 2 x p18\n",
    "# cleavedC8 = c8total - procaspase8total\n",
    "# celldeath = cleavedsubstrate / 0.10875%% Model readout: percentage of dead cells"
   ]
  },
  {
   "cell_type": "markdown",
   "metadata": {},
   "source": [
    "### Model Reactions"
   ]
  },
  {
   "cell_type": "code",
   "execution_count": 7,
   "metadata": {
    "collapsed": true
   },
   "outputs": [],
   "source": [
    "# RCD95LBindCD95R = 7.0980e-002 x CD95L x CD95R\n",
    "# RFADDBindCD95RL = 0.0844211 x CD95RL x FADD\n",
    "# RC8BindCD95FADD = 0.00319838 x CD95FADD x C8\n",
    "# RFLBindCD95FADD = 0.0693329 x CD95FADD x FL\n",
    "# RFSBindCD95FADD = 0.0694022 x CD95FADD x FS\n",
    "# RFADDC8Dissociate = 0.1 x FADDC8\n",
    "# RFADDFSDissociate = 0.08 x FADDFS\n",
    "# RFADDC8BindFADDC8 = 1.18581 x FADDC8 x FADDC8\n",
    "# RFADDFLBindFADDC8 = 4.83692 x FADDC8 x FADDFL\n",
    "# RFADDFSBindFADDC8 = 2.88545 x FADDC8 x FADDFS\n",
    "# RC8FSdimerDissociate = 1 x C8FSdimer\n",
    "# RC8homodimerDissociate = 0.1 x C8homodimer\n",
    "# RC8homodimerCleaveC8homodimer = 0.000223046 x C8homodimer x C8homodimer\n",
    "# RC8homodimerCleaveC8heterodimer = 0.000223046 x C8homodimer x C8heterodimer\n",
    "# RC8heterodimerCleaveC8heterodimer = 0.000805817 x C8heterodimer x C8heterodimer\n",
    "# RC8heterodimerCleaveC8homodimer = 0.000805817 x C8heterodimer x C8homodimer\n",
    "# Rp43homodimerCleaveC8homodimer = 0.0014888 x p43homodimer x C8homodimer\n",
    "# Rp43homodimerCleaveC8heterodimer = 0.0014888 x p43homodimer x C8heterodimer\n",
    "# Rp43heterodimerCleaveC8homodimer = 0.013098 x p43heterodimer x C8homodimer\n",
    "# Rp43heterodimerCleaveC8heterodimer = 0.013098 x p43heterodimer x C8heterodimer\n",
    "# Rp43homodimerCleavep43homodimer = 0.000999273 x p43homodimer x p43homodimer\n",
    "# Rp43heterodimerCleavep43homodimer = 0.000982109 x p43heterodimer x p43homodimer\n",
    "# Rp43heterodimerCleaveApoptosisSubstrate = 1.66747e-005 x p43heterodimer x apoptosissubstrate\n",
    "# Rp43homodimerCleaveApoptosisSubstrate = 6.97394e-005 x p43homodimer x apoptosissubstrate\n",
    "# Rp18CleaveApoptosisSubstrate = 4.79214e-08 x p18 x apoptosissubstrate"
   ]
  },
  {
   "cell_type": "code",
   "execution_count": null,
   "metadata": {
    "collapsed": true
   },
   "outputs": [],
   "source": []
  }
 ],
 "metadata": {
  "kernelspec": {
   "display_name": "Python 2",
   "language": "python",
   "name": "python2"
  },
  "language_info": {
   "codemirror_mode": {
    "name": "ipython",
    "version": 2
   },
   "file_extension": ".py",
   "mimetype": "text/x-python",
   "name": "python",
   "nbconvert_exporter": "python",
   "pygments_lexer": "ipython2",
   "version": "2.7.6"
  }
 },
 "nbformat": 4,
 "nbformat_minor": 0
}
