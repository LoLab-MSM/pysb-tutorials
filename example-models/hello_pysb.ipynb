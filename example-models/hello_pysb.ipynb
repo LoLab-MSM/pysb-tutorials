{
 "cells": [
  {
   "cell_type": "markdown",
   "metadata": {},
   "source": [
    "# Hello PySB Model\n",
    "\n",
    "A simple model with a reversible binding rule."
   ]
  },
  {
   "cell_type": "code",
   "execution_count": 1,
   "metadata": {
    "collapsed": true
   },
   "outputs": [],
   "source": [
    "%matplotlib inline"
   ]
  },
  {
   "cell_type": "code",
   "execution_count": 2,
   "metadata": {
    "collapsed": false
   },
   "outputs": [
    {
     "data": {
      "text/plain": [
       "Observable('LR', L(s=1) % R(s=1))"
      ]
     },
     "execution_count": 2,
     "metadata": {},
     "output_type": "execute_result"
    }
   ],
   "source": [
    "from pysb import *\n",
    "\n",
    "Model()\n",
    "\n",
    "# Declare the monomers\n",
    "Monomer('L', ['s'])\n",
    "Monomer('R', ['s'])\n",
    "\n",
    "# Declare the parameters\n",
    "Parameter('L_0', 100)\n",
    "Parameter('R_0', 200)\n",
    "Parameter('kf', 1e-3)\n",
    "Parameter('kr', 1e-3)\n",
    "\n",
    "# Declare the initial conditions\n",
    "Initial(L(s=None), L_0)\n",
    "Initial(R(s=None), R_0)\n",
    "\n",
    "# Declare the binding rule\n",
    "Rule('L_binds_R', L(s=None) + R(s=None) | L(s=1) % R(s=1), kf, kr)\n",
    "\n",
    "# Observe the complex\n",
    "Observable('LR', L(s=1) % R(s=1))"
   ]
  },
  {
   "cell_type": "code",
   "execution_count": 7,
   "metadata": {
    "collapsed": false
   },
   "outputs": [
    {
     "data": {
      "text/plain": [
       "<matplotlib.text.Text at 0x7fb9b04bafd0>"
      ]
     },
     "execution_count": 7,
     "metadata": {},
     "output_type": "execute_result"
    },
    {
     "data": {
      "image/png": "[encoded data removed]",
      "text/plain": [
       "<matplotlib.figure.Figure at 0x7fb99b6f1690>"
      ]
     },
     "metadata": {},
     "output_type": "display_data"
    }
   ],
   "source": [
    "from pylab import linspace, plot, xlabel, ylabel, show\n",
    "from pysb.integrate import odesolve\n",
    "\n",
    "# Run the simulation\n",
    "time = linspace(0, 40, 100)\n",
    "x = odesolve(model, time)\n",
    "\n",
    "# Plot the trajectory of LR\n",
    "plot(time, x['LR'])\n",
    "xlabel('Time (seconds)')\n",
    "ylabel('Amount of LR')"
   ]
  },
  {
   "cell_type": "code",
   "execution_count": null,
   "metadata": {
    "collapsed": true
   },
   "outputs": [],
   "source": []
  }
 ],
 "metadata": {
  "kernelspec": {
   "display_name": "Python 2",
   "language": "python",
   "name": "python2"
  },
  "language_info": {
   "codemirror_mode": {
    "name": "ipython",
    "version": 2
   },
   "file_extension": ".py",
   "mimetype": "text/x-python",
   "name": "python",
   "nbconvert_exporter": "python",
   "pygments_lexer": "ipython2",
   "version": "2.7.6"
  }
 },
 "nbformat": 4,
 "nbformat_minor": 0
}
