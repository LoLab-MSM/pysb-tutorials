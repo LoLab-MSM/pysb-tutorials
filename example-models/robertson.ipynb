{
 "cells": [
  {
   "cell_type": "markdown",
   "metadata": {},
   "source": [
    "# Robertson's Example\n",
    "A simple three-species chemical kinetics system known as \"Robertson's\n",
    "example\", as presented in:\n",
    "\n",
    "H. H. Robertson, The solution of a set of reaction rate equations, in Numerical\n",
    "Analysis: An Introduction, J. Walsh, ed., Academic Press, 1966, pp. 178-182."
   ]
  },
  {
   "cell_type": "code",
   "execution_count": 2,
   "metadata": {
    "collapsed": true
   },
   "outputs": [],
   "source": [
    "# This is a simple system often used to study stiffness in systems of\n",
    "# differential equations.  It doesn't leverage the power of rules-based modeling\n",
    "# or pysb, but it's a useful small model for purposes of experimentation.\n",
    "#\n",
    "# A brief report addressing issues of stiffness encountered in numerical\n",
    "# integration of Robertson's example can be found here:\n",
    "# http://citeseerx.ist.psu.edu/viewdoc/download?doi=10.1.1.53.8603&rep=rep1&type=pdf\n",
    "#\n",
    "# The chemical model is as follows:\n",
    "#\n",
    "#      Reaction        Rate\n",
    "#   ------------------------\n",
    "#       A -> B         0.04\n",
    "#      2B -> B + C     3.0e7\n",
    "#   B + C -> A + C     1.0e4\n",
    "#\n",
    "# The resultant system of differential equations is:\n",
    "#\n",
    "# y1' = -0.04 * y1 + 1.0e4 * y2 * y3\n",
    "# y2' =  0.04 * y1 - 1.0e4 * y2 * y3 - 3.0e7 * y2^2\n",
    "# y3' =                                3.0e7 * y2^2\n",
    "#\n",
    "# If you run this script directly, it will generate the equations and print them\n",
    "# in a form very closely resembling that given above.  See also run_robertson.py\n",
    "# which integrates the system and plots the trajectories."
   ]
  },
  {
   "cell_type": "code",
   "execution_count": 3,
   "metadata": {
    "collapsed": false
   },
   "outputs": [
    {
     "data": {
      "text/plain": [
       "Observable('C_total', C())"
      ]
     },
     "execution_count": 3,
     "metadata": {},
     "output_type": "execute_result"
    }
   ],
   "source": [
    "from pysb import *\n",
    "\n",
    "Model()\n",
    "\n",
    "Monomer('A')\n",
    "Monomer('B')\n",
    "Monomer('C')\n",
    "\n",
    "#       A -> B         0.04\n",
    "Rule('A_to_B', A() >> B(), Parameter('k1', 0.04))\n",
    "#      2B -> B + C     3.0e7\n",
    "Rule('BB_to_BC', B() + B() >> B() + C(), Parameter('k2', 3.0e7))\n",
    "#   B + C -> A + C     1.0e4\n",
    "Rule('BC_to_AC', B() + C() >> A() + C(), Parameter('k3', 1.0e4))\n",
    "\n",
    "# The system is known to be stiff for initial values A=1, B=0, C=0\n",
    "Initial(A(), Parameter('A_0', 1.0))\n",
    "Initial(B(), Parameter('B_0', 0.0))\n",
    "Initial(C(), Parameter('C_0', 0.0))\n",
    "\n",
    "# Observe total amount of each monomer\n",
    "Observable('A_total', A())\n",
    "Observable('B_total', B())\n",
    "Observable('C_total', C())"
   ]
  },
  {
   "cell_type": "markdown",
   "metadata": {},
   "source": [
    "## Simulation"
   ]
  },
  {
   "cell_type": "code",
   "execution_count": 5,
   "metadata": {
    "collapsed": false
   },
   "outputs": [
    {
     "data": {
      "image/png": "[encoded data removed]",
      "text/plain": [
       "<matplotlib.figure.Figure at 0x7f601f075750>"
      ]
     },
     "metadata": {},
     "output_type": "display_data"
    }
   ],
   "source": [
    "%matplotlib inline\n",
    "from pylab import *\n",
    "from pysb.integrate import odesolve\n",
    "\n",
    "# We will integrate from t=0 to t=40\n",
    "t = linspace(0, 40)\n",
    "# Simulate the model\n",
    "y = odesolve(model, t, rtol=1e-4, atol=[1e-8, 1e-14, 1e-6])\n",
    "# Gather the observables of interest into a matrix\n",
    "yobs = array([y[obs] for obs in ('A_total', 'B_total', 'C_total')]).T\n",
    "# Plot normalized trajectories\n",
    "plot(t, yobs / yobs.max(0))\n",
    "legend(['y1', 'y2', 'y3'], loc='lower right')\n",
    "show()"
   ]
  },
  {
   "cell_type": "code",
   "execution_count": null,
   "metadata": {
    "collapsed": true
   },
   "outputs": [],
   "source": []
  }
 ],
 "metadata": {
  "kernelspec": {
   "display_name": "Python 2",
   "language": "python",
   "name": "python2"
  },
  "language_info": {
   "codemirror_mode": {
    "name": "ipython",
    "version": 2
   },
   "file_extension": ".py",
   "mimetype": "text/x-python",
   "name": "python",
   "nbconvert_exporter": "python",
   "pygments_lexer": "ipython2",
   "version": "2.7.6"
  }
 },
 "nbformat": 4,
 "nbformat_minor": 0
}
