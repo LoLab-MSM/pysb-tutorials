{
 "cells": [
  {
   "cell_type": "markdown",
   "metadata": {},
   "source": [
    "# Synthesis and Degradation Example"
   ]
  },
  {
   "cell_type": "code",
   "execution_count": 1,
   "metadata": {
    "collapsed": false
   },
   "outputs": [
    {
     "data": {
      "text/plain": [
       "Observable('A_total', A())"
      ]
     },
     "execution_count": 1,
     "metadata": {},
     "output_type": "execute_result"
    }
   ],
   "source": [
    "from pysb import *\n",
    "\n",
    "Model()\n",
    "\n",
    "Monomer('A')\n",
    "\n",
    "Parameter('kA_syn', 1e0)\n",
    "Parameter('kA_deg', 1e-1)\n",
    "Rule('synthesize_A', None >> A(), kA_syn)\n",
    "Rule('degrade_A', A() >> None, kA_deg)\n",
    "\n",
    "Parameter('A_0', 1.0)\n",
    "Initial(A(), A_0)\n",
    "\n",
    "Observable('A_total', A())"
   ]
  },
  {
   "cell_type": "code",
   "execution_count": null,
   "metadata": {
    "collapsed": true
   },
   "outputs": [],
   "source": []
  }
 ],
 "metadata": {
  "kernelspec": {
   "display_name": "Python 2",
   "language": "python",
   "name": "python2"
  },
  "language_info": {
   "codemirror_mode": {
    "name": "ipython",
    "version": 2
   },
   "file_extension": ".py",
   "mimetype": "text/x-python",
   "name": "python",
   "nbconvert_exporter": "python",
   "pygments_lexer": "ipython2",
   "version": "2.7.6"
  }
 },
 "nbformat": 4,
 "nbformat_minor": 0
}
