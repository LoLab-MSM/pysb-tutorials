{
 "metadata": {
  "name": ""
 },
 "nbformat": 3,
 "nbformat_minor": 0,
 "worksheets": [
  {
   "cells": [
    {
     "cell_type": "code",
     "collapsed": false,
     "input": [
      "from IPython.display import Image\n",
      "Image(filename='TysonGraph.png')"
     ],
     "language": "python",
     "metadata": {},
     "outputs": [
      {
       "metadata": {},
       "output_type": "pyout",
       "png": "[encoded data removed]",
       "prompt_number": 1,
       "text": [
        "<IPython.core.display.Image at 0x7fd94caa2fd0>"
       ]
      }
     ],
     "prompt_number": 1
    },
    {
     "cell_type": "markdown",
     "metadata": {},
     "source": [
      "1)Import all features from pysb"
     ]
    },
    {
     "cell_type": "code",
     "collapsed": false,
     "input": [
      "from pysb import *"
     ],
     "language": "python",
     "metadata": {},
     "outputs": []
    },
    {
     "cell_type": "markdown",
     "metadata": {},
     "source": [
      "2) Import pysb macros"
     ]
    },
    {
     "cell_type": "code",
     "collapsed": false,
     "input": [
      "from pysb.macros import *"
     ],
     "language": "python",
     "metadata": {},
     "outputs": [],
     "prompt_number": 2
    },
    {
     "cell_type": "markdown",
     "metadata": {},
     "source": [
      "3) Import Avogadro's number to convert parameter rates"
     ]
    },
    {
     "cell_type": "code",
     "collapsed": false,
     "input": [
      "from scipy.constants import N_A"
     ],
     "language": "python",
     "metadata": {},
     "outputs": []
    },
    {
     "cell_type": "markdown",
     "metadata": {},
     "source": [
      "4) Generate instance of model class"
     ]
    },
    {
     "cell_type": "code",
     "collapsed": false,
     "input": [
      "Model()"
     ],
     "language": "python",
     "metadata": {},
     "outputs": []
    },
    {
     "cell_type": "markdown",
     "metadata": {},
     "source": [
      "5) Define two monomers:\n",
      "* cyclin that has two sites. One of the sites is the binding site and the oter site is the phoshorilation one. The    phosphorilation site has two states: phosphorilated and unphosphorilated.\n",
      "* cdc2 that has two sites. One of the sites is the binding site and the oter site is the phoshorilation one. The    phosphorilation site has two states: phosphorilated and unphosphorilated.\n"
     ]
    },
    {
     "cell_type": "code",
     "collapsed": false,
     "input": [
      "Monomer('', ['', ''], {'': ['','']})\n",
      "Monomer('', ['', ''], {'': ['','']})"
     ],
     "language": "python",
     "metadata": {},
     "outputs": []
    },
    {
     "cell_type": "markdown",
     "metadata": {},
     "source": [
      "We have the parameter values: k1 = 0.015*NA_V, k2 = 0, k3 = 200/NA_V, k4 = 2*180/NA_V/NA_V, kp4 = 0.018, k5 = 0, k6 = 1.0, k7 = 0.6, k8 = 1e6, k9 = 1e3 "
     ]
    },
    {
     "cell_type": "code",
     "collapsed": false,
     "input": [
      "VOL = 1e-20\n",
      "NA_V = N_A*VOL\n",
      "Parameter('k1', )  \n",
      "Parameter('k2', )\n",
      "Parameter('k3', )\n",
      "Parameter('k4', )\n",
      "Parameter('kp4', )\n",
      "Parameter('k5', )\n",
      "Parameter('k6',)\n",
      "Parameter('k7',)\n",
      "Parameter('k8', ) \n",
      "Parameter('k9',) \n",
      "    "
     ],
     "language": "python",
     "metadata": {},
     "outputs": []
    },
    {
     "cell_type": "markdown",
     "metadata": {},
     "source": [
      "Use the synthesise function to create cyclin in state unbounded and unphosphorilated. synthesize(species, k_synthesis)"
     ]
    },
    {
     "cell_type": "code",
     "collapsed": false,
     "input": [
      "synthesize( , )"
     ],
     "language": "python",
     "metadata": {},
     "outputs": [],
     "prompt_number": 3
    },
    {
     "cell_type": "markdown",
     "metadata": {},
     "source": [
      "Create a binding and  phosphorilation rule. Cyclin combines with cdc2-P (step 3) to form Cyclin%cdc2-p. \"At some point after heterodimer formation, the cyclin subunit is phosphorylated. (Assuming phosphorylation is faster than dimerization, I write the two-step process as a single step, rate-limited by dimerization.)\" J. J. Tyson, PNAS (1991) 7328-7332"
     ]
    },
    {
     "cell_type": "code",
     "collapsed": false,
     "input": [
      "Rule('BindingAndPhosphoylation', )"
     ],
     "language": "python",
     "metadata": {},
     "outputs": []
    },
    {
     "cell_type": "markdown",
     "metadata": {},
     "source": [
      "cyclin(Y='P', b=1) % cdc2(Y='U', b=1) is generated in an autocatalytic fashion "
     ]
    },
    {
     "cell_type": "code",
     "collapsed": false,
     "input": [
      "Rule('Autocatalytic', cyclin(Y='P', b=1) % cdc2(Y='P', b=1) + cyclin(Y='P', b=2) % cdc2(Y='U', b=2) + cyclin(Y='P', b=2) % cdc2(Y='U', b=2) >>\n",
      "cyclin(Y='P', b=1) % cdc2(Y='U', b=1) + cyclin(Y='P', b=2) % cdc2(Y='U', b=2) + cyclin(Y='P', b=2) % cdc2(Y='U', b=2), k4)\n"
     ],
     "language": "python",
     "metadata": {},
     "outputs": []
    },
    {
     "cell_type": "markdown",
     "metadata": {},
     "source": [
      "cyclin(Y='P', b=1) % cdc2(Y='U', b=1) is dissociated"
     ]
    },
    {
     "cell_type": "code",
     "collapsed": false,
     "input": [
      "Rule('Dissociation', )"
     ],
     "language": "python",
     "metadata": {},
     "outputs": []
    },
    {
     "cell_type": "markdown",
     "metadata": {},
     "source": [
      "Cdc2-U and Cdc2-P equilibrate. You can use the equilibrate function from macros: equilibrate(protein1, protein2, [list_rate_parameters])"
     ]
    },
    {
     "cell_type": "code",
     "collapsed": false,
     "input": [
      "equilibrate()"
     ],
     "language": "python",
     "metadata": {},
     "outputs": []
    },
    {
     "cell_type": "markdown",
     "metadata": {},
     "source": [
      "Declare initial conditions"
     ]
    },
    {
     "cell_type": "code",
     "collapsed": false,
     "input": [
      "#Initial conditions\n",
      "\n",
      "Parameter(\"cdc0\", 1*NA_V)\n",
      "# Parameter(\"cdc0\", 1.0)\n",
      "Initial(cdc2(Y='P', b=None), cdc0)\n",
      "\n",
      "# [Y] in Tyson\n",
      "Parameter('cyc0', 0.25*NA_V)\n",
      "# Parameter('cyc0', 0.25)\n",
      "Initial(cyclin(Y='U', b=None), cyc0)"
     ],
     "language": "python",
     "metadata": {},
     "outputs": []
    },
    {
     "cell_type": "code",
     "collapsed": false,
     "input": [
      "Declare an observable for total cyclin and  the Cyclin-P%Cdc2-U complex"
     ],
     "language": "python",
     "metadata": {},
     "outputs": []
    },
    {
     "cell_type": "code",
     "collapsed": false,
     "input": [
      "Observable('total_cyclin', ) \n",
      "Observable('complex_cyclin', ) \n"
     ],
     "language": "python",
     "metadata": {},
     "outputs": []
    },
    {
     "cell_type": "markdown",
     "metadata": {},
     "source": [
      "Simulation"
     ]
    },
    {
     "cell_type": "code",
     "collapsed": false,
     "input": [
      "%matplotlib inline\n",
      "from pysb.integrate import odesolve\n",
      "from numpy import *\n",
      "import matplotlib.pyplot as plt\n",
      "\n",
      "t = linspace(0, 100, 10001)\n",
      "x = odesolve(model, t)\n",
      "ref = x\n",
      "\n",
      "#plot(t, x['CT'])  # Good validation of mass balance for cdc2, should be constant at 1\n",
      "plt.plot(t, x['total_cyclin'], lw=2, label='total_cyclin')\n",
      "plt.plot(t, x['complex_cyclin'], lw=2, label='complex_cyclin')\n",
      "\n",
      "plt.legend(loc=0)\n",
      "plt.xlabel('time')\n",
      "plt.ylabel('population')\n",
      "\n",
      "plt.show()"
     ],
     "language": "python",
     "metadata": {},
     "outputs": []
    }
   ],
   "metadata": {}
  }
 ]
}