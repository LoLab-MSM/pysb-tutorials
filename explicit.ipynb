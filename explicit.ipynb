{
 "cells": [
  {
   "cell_type": "markdown",
   "metadata": {},
   "source": [
    "# Explicit Model (without SelfExporter)\n",
    "Example of how to write a model without using SelfExporter."
   ]
  },
  {
   "cell_type": "code",
   "execution_count": 1,
   "metadata": {
    "collapsed": true
   },
   "outputs": [],
   "source": [
    "from pysb import *\n",
    "import pysb.core\n",
    "\n",
    "# disable SelfExporter from doing its thing\n",
    "pysb.core.SelfExporter.do_export = False\n",
    "\n",
    "model = Model('explicit')\n",
    "\n",
    "L = Monomer('L', ['r'])\n",
    "R = Monomer('R', ['l'])\n",
    "model.add_component(L)\n",
    "model.add_component(R)\n",
    "\n",
    "kf = Parameter('kf', 1e-6)\n",
    "L_binds_R = Rule('L_binds_R', L(r=None) + R(l=None) >> L(r=1) % R(l=1), kf)\n",
    "model.add_component(kf)\n",
    "model.add_component(L_binds_R)\n",
    "\n",
    "L_0 = Parameter('L_0', 1e2)\n",
    "R_0 = Parameter('R_0', 1e4)\n",
    "model.add_component(L_0)\n",
    "model.add_component(R_0)\n",
    "model.initial(L(r=None), L_0)\n",
    "model.initial(R(l=None), R_0)"
   ]
  },
  {
   "cell_type": "code",
   "execution_count": null,
   "metadata": {
    "collapsed": true
   },
   "outputs": [],
   "source": []
  }
 ],
 "metadata": {
  "kernelspec": {
   "display_name": "Python 2",
   "language": "python",
   "name": "python2"
  },
  "language_info": {
   "codemirror_mode": {
    "name": "ipython",
    "version": 2
   },
   "file_extension": ".py",
   "mimetype": "text/x-python",
   "name": "python",
   "nbconvert_exporter": "python",
   "pygments_lexer": "ipython2",
   "version": "2.7.6"
  }
 },
 "nbformat": 4,
 "nbformat_minor": 0
}
