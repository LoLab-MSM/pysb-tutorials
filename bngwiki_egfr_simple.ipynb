{
 "cells": [
  {
   "cell_type": "markdown",
   "metadata": {},
   "source": [
    "# BNG EGFR Simple Model\n",
    "Translation of the BioNetGen example \"egfr_simple\" from the BNG wiki.\n",
    "\n",
    "http://bionetgen.org/index.php/Egfr_simple"
   ]
  },
  {
   "cell_type": "code",
   "execution_count": 2,
   "metadata": {
    "collapsed": false
   },
   "outputs": [
    {
     "data": {
      "text/plain": [
       "Rule('egfr_dimer_degrade', EGF(R=1) % EGF(R=2) % EGFR(L=1, CR1=3) % EGFR(L=2, CR1=3) >> None, deg)"
      ]
     },
     "execution_count": 2,
     "metadata": {},
     "output_type": "execute_result"
    }
   ],
   "source": [
    "from pysb import *\n",
    "\n",
    "Model()\n",
    "\n",
    "Parameter('NA', 6.02e23)     # Avogadro's number (molecules/mol)\n",
    "Parameter('f', 1)            # Fraction of the cell to simulate\n",
    "Expression('Vo', f*1.0e-10)  # Extracellular volume=1/cell_density (L)\n",
    "Expression('V', f*3.0e-12)   # Cytoplasmic volume (L)\n",
    "\n",
    "# Initial amount of ligand (20 nM) converted to copies per cell\n",
    "Expression('EGF_init', 20*1e-9*NA*Vo)\n",
    "\n",
    "# Initial amounts of cellular components (copies per cell)\n",
    "Expression('EGFR_init', f*1.8e5)\n",
    "Expression('Grb2_init', f*1.5e5)\n",
    "Expression('Sos1_init', f*6.2e4)\n",
    "\n",
    "# Rate constants\n",
    "# Divide by NA*V to convert bimolecular rate constants from /M/sec to\n",
    "# /(molecule/cell)/sec\n",
    "Expression('kp1', 9.0e7/(NA*Vo))  # ligand-monomer binding\n",
    "Parameter('km1', 0.06)            # ligand-monomer dissociation\n",
    "Expression('kp2', 1.0e7/(NA*V))   # aggregation of bound monomers\n",
    "Parameter('km2', 0.1)             # dissociation of bound monomers\n",
    "Parameter('kp3', 0.5)             # dimer transphosphorylation\n",
    "Parameter('km3', 4.505)           # dimer dephosphorylation\n",
    "Expression('kp4', 1.5e6/(NA*V))   # binding of Grb2 to receptor\n",
    "Parameter('km4', 0.05)            # dissociation of Grb2 from receptor\n",
    "Expression('kp5', 1.0e7/(NA*V))   # binding of Grb2 to Sos1\n",
    "Parameter('km5', 0.06)            # dissociation of Grb2 from Sos1\n",
    "Parameter('deg', 0.01)            # degradation of receptor dimers\n",
    "\n",
    "\n",
    "Monomer('EGF', ['R'])\n",
    "Monomer('EGFR', ['L','CR1','Y1068'], {'Y1068':('U','P')})\n",
    "Monomer('Grb2', ['SH2','SH3'])\n",
    "Monomer('Sos1', ['PxxP'])\n",
    "\n",
    "\n",
    "Initial(EGF(R=None), EGF_init)\n",
    "Initial(EGFR(L=None, CR1=None, Y1068='U'), EGFR_init)\n",
    "Initial(Grb2(SH2=None, SH3=None), Grb2_init)\n",
    "Initial(Sos1(PxxP=None), Sos1_init)\n",
    "\n",
    "\n",
    "Observable('EGFR_tot', EGFR())\n",
    "Observable('Lig_free', EGF(R=None))\n",
    "Observable('Dim', EGFR(CR1=ANY), match='species')\n",
    "Observable('RP', EGFR(Y1068=('P',WILD)))\n",
    "Observable('Grb2Sos1', Grb2(SH2=None, SH3=1) % Sos1(PxxP=1))\n",
    "Observable('Sos1_act', EGFR(Y1068=1) % Grb2(SH2=1, SH3=2) % Sos1(PxxP=2))\n",
    "\n",
    "\n",
    "# Ligand-receptor binding\n",
    "Rule('egf_bind_egfr',\n",
    "     EGFR(L=None, CR1=None) + EGF(R=None) <> EGFR(L=1, CR1=None) % EGF(R=1),\n",
    "     kp1, km1)\n",
    "\n",
    "# Receptor-aggregation\n",
    "Rule('egfr_dimerize',\n",
    "     EGFR(L=ANY, CR1=None) + EGFR(L=ANY, CR1=None) <>\n",
    "     EGFR(L=ANY, CR1=1) % EGFR(L=ANY, CR1=1),\n",
    "     kp2, km2)\n",
    "\n",
    "# Transphosphorylation of EGFR by RTK\n",
    "Rule('egfr_transphos',\n",
    "     EGFR(CR1=ANY, Y1068='U') >> EGFR(CR1=ANY, Y1068='P'), kp3)\n",
    "\n",
    "# Dephosphorylation\n",
    "Rule('egfr_dephos',\n",
    "     EGFR(Y1068='P') >> EGFR(Y1068='U'), km3)\n",
    "\n",
    "# Grb2 binding to pY1068\n",
    "Rule('grb2_bind_egfr',\n",
    "     EGFR(Y1068='P') + Grb2(SH2=None) <> EGFR(Y1068=('P',1)) % Grb2(SH2=1),\n",
    "     kp4, km4)\n",
    "\n",
    "# Grb2 binding to Sos1\n",
    "Rule('sos1_bind_grb2',\n",
    "     Grb2(SH3=None) + Sos1(PxxP=None) <> Grb2(SH3=1) % Sos1(PxxP=1),\n",
    "     kp5, km5)\n",
    "\n",
    "# Receptor dimer internalization/degradation\n",
    "Rule('egfr_dimer_degrade',\n",
    "     EGF(R=1) % EGF(R=2) % EGFR(L=1, CR1=3) % EGFR(L=2, CR1=3) >> None,\n",
    "     deg)"
   ]
  },
  {
   "cell_type": "code",
   "execution_count": null,
   "metadata": {
    "collapsed": true
   },
   "outputs": [],
   "source": []
  }
 ],
 "metadata": {
  "kernelspec": {
   "display_name": "Python 2",
   "language": "python",
   "name": "python2"
  },
  "language_info": {
   "codemirror_mode": {
    "name": "ipython",
    "version": 2
   },
   "file_extension": ".py",
   "mimetype": "text/x-python",
   "name": "python",
   "nbconvert_exporter": "python",
   "pygments_lexer": "ipython2",
   "version": "2.7.6"
  }
 },
 "nbformat": 4,
 "nbformat_minor": 0
}
